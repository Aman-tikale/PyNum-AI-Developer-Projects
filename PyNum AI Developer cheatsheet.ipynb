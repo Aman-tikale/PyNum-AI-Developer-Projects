{
 "cells": [
  {
   "cell_type": "code",
   "execution_count": 2,
   "id": "c312a147",
   "metadata": {},
   "outputs": [
    {
     "name": "stdout",
     "output_type": "stream",
     "text": [
      "[[ 5 12]\n",
      " [21 32]]\n"
     ]
    }
   ],
   "source": [
    "import numpy as np\n",
    "\n",
    "\n",
    "a = np.array([[1, 2], [3, 4]])\n",
    "b = np.array([[5, 6], [7, 8]])\n",
    "\n",
    "c = a * b\n",
    "print(c)"
   ]
  },
  {
   "cell_type": "code",
   "execution_count": 3,
   "id": "7ba036a6",
   "metadata": {},
   "outputs": [
    {
     "name": "stdout",
     "output_type": "stream",
     "text": [
      "[[ 5 12]\n",
      " [21 32]]\n"
     ]
    }
   ],
   "source": [
    "a = np.array([[1,2], [3,4]])\n",
    "b = np.array([[5,6], [7,8]])\n",
    "\n",
    "c = a * b\n",
    "print(c)"
   ]
  },
  {
   "cell_type": "code",
   "execution_count": 5,
   "id": "081f81ab",
   "metadata": {},
   "outputs": [
    {
     "data": {
      "text/plain": [
       "array([[10, 20, 30],\n",
       "       [20, 40, 60],\n",
       "       [30, 60, 90]])"
      ]
     },
     "execution_count": 5,
     "metadata": {},
     "output_type": "execute_result"
    }
   ],
   "source": [
    "a = np.array([[1], [2], [3]])   # shape (3,1)\n",
    "b = np.array([10, 20, 30])      # shape (3,) → broadcasted to (1,3)\n",
    "\n",
    "c = a * b  # shape becomes (3,3\n",
    "\n",
    "c"
   ]
  },
  {
   "cell_type": "code",
   "execution_count": 6,
   "id": "83550811",
   "metadata": {},
   "outputs": [
    {
     "name": "stdout",
     "output_type": "stream",
     "text": [
      "2.0.2\n"
     ]
    }
   ],
   "source": [
    "print(np.__version__)"
   ]
  },
  {
   "cell_type": "code",
   "execution_count": 7,
   "id": "05954e44",
   "metadata": {},
   "outputs": [],
   "source": [
    "import numpy as np\n",
    "\n",
    "a = np.array([\n",
    "  [[1, 2, 3], [4, 5, 6]],\n",
    "  [[7, 8, 9], [10, 11, 12]]\n",
    "])"
   ]
  },
  {
   "cell_type": "code",
   "execution_count": 9,
   "id": "b3d27d4a",
   "metadata": {},
   "outputs": [
    {
     "data": {
      "text/plain": [
       "3"
      ]
     },
     "execution_count": 9,
     "metadata": {},
     "output_type": "execute_result"
    }
   ],
   "source": [
    "a.ndim\n"
   ]
  },
  {
   "cell_type": "code",
   "execution_count": 10,
   "id": "445aff8f",
   "metadata": {},
   "outputs": [
    {
     "data": {
      "text/plain": [
       "(2, 2, 3)"
      ]
     },
     "execution_count": 10,
     "metadata": {},
     "output_type": "execute_result"
    }
   ],
   "source": [
    "a.shape"
   ]
  },
  {
   "cell_type": "code",
   "execution_count": 11,
   "id": "bf144a5d",
   "metadata": {},
   "outputs": [
    {
     "data": {
      "text/plain": [
       "12"
      ]
     },
     "execution_count": 11,
     "metadata": {},
     "output_type": "execute_result"
    }
   ],
   "source": [
    "a.size"
   ]
  },
  {
   "cell_type": "code",
   "execution_count": 12,
   "id": "1496a7fc",
   "metadata": {},
   "outputs": [
    {
     "data": {
      "text/plain": [
       "dtype('int64')"
      ]
     },
     "execution_count": 12,
     "metadata": {},
     "output_type": "execute_result"
    }
   ],
   "source": [
    "a.dtype\n"
   ]
  },
  {
   "cell_type": "code",
   "execution_count": 13,
   "id": "bcacc88d",
   "metadata": {},
   "outputs": [
    {
     "data": {
      "text/plain": [
       "8"
      ]
     },
     "execution_count": 13,
     "metadata": {},
     "output_type": "execute_result"
    }
   ],
   "source": [
    "a.itemsize\n"
   ]
  },
  {
   "cell_type": "code",
   "execution_count": 14,
   "id": "fde5bcab",
   "metadata": {},
   "outputs": [
    {
     "data": {
      "text/plain": [
       "<memory at 0x000002322FF9D9A0>"
      ]
     },
     "execution_count": 14,
     "metadata": {},
     "output_type": "execute_result"
    }
   ],
   "source": [
    "a.data"
   ]
  },
  {
   "cell_type": "code",
   "execution_count": 19,
   "id": "e86b15a7",
   "metadata": {},
   "outputs": [
    {
     "data": {
      "text/plain": [
       "array([[ 0,  1,  2,  3,  4],\n",
       "       [ 5,  6,  7,  8,  9],\n",
       "       [10, 11, 12, 13, 14]])"
      ]
     },
     "execution_count": 19,
     "metadata": {},
     "output_type": "execute_result"
    }
   ],
   "source": [
    "a = np.arange(15).reshape(3, 5)\n",
    "a"
   ]
  },
  {
   "cell_type": "code",
   "execution_count": 20,
   "id": "9b5684dc",
   "metadata": {},
   "outputs": [
    {
     "data": {
      "text/plain": [
       "numpy.ndarray"
      ]
     },
     "execution_count": 20,
     "metadata": {},
     "output_type": "execute_result"
    }
   ],
   "source": [
    "type(a)"
   ]
  },
  {
   "cell_type": "code",
   "execution_count": 21,
   "id": "faf7a63d",
   "metadata": {},
   "outputs": [
    {
     "data": {
      "text/plain": [
       "array([1.2, 3.5, 5.1])"
      ]
     },
     "execution_count": 21,
     "metadata": {},
     "output_type": "execute_result"
    }
   ],
   "source": [
    "b = np.array([1.2, 3.5, 5.1])\n",
    "b"
   ]
  },
  {
   "cell_type": "code",
   "execution_count": 22,
   "id": "83cef505",
   "metadata": {},
   "outputs": [
    {
     "data": {
      "text/plain": [
       "dtype('float64')"
      ]
     },
     "execution_count": 22,
     "metadata": {},
     "output_type": "execute_result"
    }
   ],
   "source": [
    "b.dtype"
   ]
  },
  {
   "cell_type": "code",
   "execution_count": 23,
   "id": "97bb1bd7",
   "metadata": {},
   "outputs": [
    {
     "data": {
      "text/plain": [
       "array([[0., 0., 0., 0.],\n",
       "       [0., 0., 0., 0.],\n",
       "       [0., 0., 0., 0.]])"
      ]
     },
     "execution_count": 23,
     "metadata": {},
     "output_type": "execute_result"
    }
   ],
   "source": [
    "np.zeros((3, 4))"
   ]
  },
  {
   "cell_type": "code",
   "execution_count": 24,
   "id": "552c24ae",
   "metadata": {},
   "outputs": [
    {
     "data": {
      "text/plain": [
       "array([[1., 1., 1., 1.],\n",
       "       [1., 1., 1., 1.],\n",
       "       [1., 1., 1., 1.]])"
      ]
     },
     "execution_count": 24,
     "metadata": {},
     "output_type": "execute_result"
    }
   ],
   "source": [
    "np.ones((3, 4))"
   ]
  },
  {
   "cell_type": "code",
   "execution_count": 27,
   "id": "ab3f3f2e",
   "metadata": {},
   "outputs": [
    {
     "data": {
      "text/plain": [
       "array([[4.67296746e-307, 1.69121096e-306, 1.89144010e-307,\n",
       "        7.56587584e-307],\n",
       "       [1.37961302e-306, 1.05699242e-307, 8.01097889e-307,\n",
       "        1.78020169e-306],\n",
       "       [7.56601165e-307, 1.02359984e-306, 1.33510679e-306,\n",
       "        2.22522597e-306],\n",
       "       [1.33511018e-306, 6.23057689e-307, 8.45597329e-307,\n",
       "        8.45559303e-307],\n",
       "       [8.06613465e-308, 6.89810244e-307, 1.22387550e-307,\n",
       "        2.22522596e-306]])"
      ]
     },
     "execution_count": 27,
     "metadata": {},
     "output_type": "execute_result"
    }
   ],
   "source": [
    "np.empty((5, 4))"
   ]
  },
  {
   "cell_type": "code",
   "execution_count": 28,
   "id": "5e4fe556",
   "metadata": {},
   "outputs": [],
   "source": [
    "from numpy import pi"
   ]
  },
  {
   "cell_type": "code",
   "execution_count": 33,
   "id": "521fcefe",
   "metadata": {},
   "outputs": [
    {
     "data": {
      "text/plain": [
       "array([ 0. ,  2.5,  5. ,  7.5, 10. ])"
      ]
     },
     "execution_count": 33,
     "metadata": {},
     "output_type": "execute_result"
    }
   ],
   "source": [
    "np.linspace(0, 10, 5) "
   ]
  },
  {
   "cell_type": "code",
   "execution_count": 34,
   "id": "ecf6f318",
   "metadata": {},
   "outputs": [],
   "source": [
    "x = np.linspace(0, 2 * pi, 100)"
   ]
  },
  {
   "cell_type": "code",
   "execution_count": 35,
   "id": "bcca6bb7",
   "metadata": {},
   "outputs": [],
   "source": [
    "f = np.sin(x)"
   ]
  },
  {
   "cell_type": "code",
   "execution_count": 36,
   "id": "b014ad13",
   "metadata": {},
   "outputs": [],
   "source": [
    " c = np.arange(24).reshape(2, 3, 4)  "
   ]
  },
  {
   "cell_type": "code",
   "execution_count": 37,
   "id": "57408253",
   "metadata": {},
   "outputs": [
    {
     "data": {
      "text/plain": [
       "array([[[ 0,  1,  2,  3],\n",
       "        [ 4,  5,  6,  7],\n",
       "        [ 8,  9, 10, 11]],\n",
       "\n",
       "       [[12, 13, 14, 15],\n",
       "        [16, 17, 18, 19],\n",
       "        [20, 21, 22, 23]]])"
      ]
     },
     "execution_count": 37,
     "metadata": {},
     "output_type": "execute_result"
    }
   ],
   "source": [
    "c"
   ]
  },
  {
   "cell_type": "code",
   "execution_count": 38,
   "id": "7f08ae8a",
   "metadata": {},
   "outputs": [
    {
     "name": "stdout",
     "output_type": "stream",
     "text": [
      "[   0    1    2 ... 9997 9998 9999]\n"
     ]
    }
   ],
   "source": [
    "print(np.arange(10000))"
   ]
  },
  {
   "cell_type": "code",
   "execution_count": 41,
   "id": "074a4a3a",
   "metadata": {},
   "outputs": [
    {
     "data": {
      "text/plain": [
       "array([[ 0.        ,  8.41470985,  9.09297427,  1.41120008, -7.56802495],\n",
       "       [-9.58924275, -2.79415498,  6.56986599,  9.89358247,  4.12118485],\n",
       "       [-5.44021111, -9.99990207, -5.36572918,  4.20167037,  9.90607356]])"
      ]
     },
     "execution_count": 41,
     "metadata": {},
     "output_type": "execute_result"
    }
   ],
   "source": [
    "10 * np.sin(a)"
   ]
  },
  {
   "cell_type": "code",
   "execution_count": 43,
   "id": "7666c9d1",
   "metadata": {},
   "outputs": [
    {
     "data": {
      "text/plain": [
       "array([[ True,  True,  True, False, False],\n",
       "       [False, False, False, False, False],\n",
       "       [False, False, False, False, False]])"
      ]
     },
     "execution_count": 43,
     "metadata": {},
     "output_type": "execute_result"
    }
   ],
   "source": [
    "a < 3"
   ]
  },
  {
   "cell_type": "code",
   "execution_count": 44,
   "id": "75b12463",
   "metadata": {},
   "outputs": [
    {
     "ename": "ValueError",
     "evalue": "matmul: Input operand 1 has a mismatch in its core dimension 0, with gufunc signature (n?,k),(k,m?)->(n?,m?) (size 3 is different from 5)",
     "output_type": "error",
     "traceback": [
      "\u001b[1;31m---------------------------------------------------------------------------\u001b[0m",
      "\u001b[1;31mValueError\u001b[0m                                Traceback (most recent call last)",
      "\u001b[1;32m~\\AppData\\Local\\Temp/ipykernel_2668/1573597190.py\u001b[0m in \u001b[0;36m<module>\u001b[1;34m\u001b[0m\n\u001b[1;32m----> 1\u001b[1;33m \u001b[0ma\u001b[0m \u001b[1;33m@\u001b[0m \u001b[0mb\u001b[0m\u001b[1;33m\u001b[0m\u001b[1;33m\u001b[0m\u001b[0m\n\u001b[0m",
      "\u001b[1;31mValueError\u001b[0m: matmul: Input operand 1 has a mismatch in its core dimension 0, with gufunc signature (n?,k),(k,m?)->(n?,m?) (size 3 is different from 5)"
     ]
    }
   ],
   "source": [
    "a @ b"
   ]
  },
  {
   "cell_type": "code",
   "execution_count": 46,
   "id": "7d2e8a10",
   "metadata": {},
   "outputs": [
    {
     "name": "stdout",
     "output_type": "stream",
     "text": [
      "8\n",
      "20\n"
     ]
    }
   ],
   "source": [
    "x = 5\n",
    "x += 3   # Same as x = x + 3\n",
    "print(x)  # Output: 8\n",
    "\n",
    "x =10\n",
    "x *= 2   # Same as x = x * 2\n",
    "print(x)  # Output: 16"
   ]
  },
  {
   "cell_type": "code",
   "execution_count": 50,
   "id": "3e44f820",
   "metadata": {},
   "outputs": [],
   "source": [
    "B = np.arange(5)"
   ]
  },
  {
   "cell_type": "code",
   "execution_count": 51,
   "id": "1ee480aa",
   "metadata": {},
   "outputs": [
    {
     "data": {
      "text/plain": [
       "array([1.2, 3.5, 5.1])"
      ]
     },
     "execution_count": 51,
     "metadata": {},
     "output_type": "execute_result"
    }
   ],
   "source": [
    "b"
   ]
  },
  {
   "cell_type": "code",
   "execution_count": 52,
   "id": "569135fd",
   "metadata": {},
   "outputs": [
    {
     "data": {
      "text/plain": [
       "array([ 1.        ,  2.71828183,  7.3890561 , 20.08553692, 54.59815003])"
      ]
     },
     "execution_count": 52,
     "metadata": {},
     "output_type": "execute_result"
    }
   ],
   "source": [
    "np.exp(B)\n"
   ]
  },
  {
   "cell_type": "code",
   "execution_count": 53,
   "id": "851d9ea6",
   "metadata": {},
   "outputs": [
    {
     "data": {
      "text/plain": [
       "array([0.        , 1.        , 1.41421356, 1.73205081, 2.        ])"
      ]
     },
     "execution_count": 53,
     "metadata": {},
     "output_type": "execute_result"
    }
   ],
   "source": [
    "np.sqrt(B)"
   ]
  },
  {
   "cell_type": "code",
   "execution_count": 54,
   "id": "627dbd3b",
   "metadata": {},
   "outputs": [
    {
     "data": {
      "text/plain": [
       "1000"
      ]
     },
     "execution_count": 54,
     "metadata": {},
     "output_type": "execute_result"
    }
   ],
   "source": [
    "a = np.arange\n",
    "(10)**3"
   ]
  },
  {
   "cell_type": "code",
   "execution_count": 63,
   "id": "00d87021",
   "metadata": {},
   "outputs": [
    {
     "data": {
      "text/plain": [
       "array([[ 0,  1,  2,  3],\n",
       "       [10, 11, 12, 13],\n",
       "       [20, 21, 22, 23],\n",
       "       [30, 31, 32, 33],\n",
       "       [40, 41, 42, 43]])"
      ]
     },
     "execution_count": 63,
     "metadata": {},
     "output_type": "execute_result"
    }
   ],
   "source": [
    "def f(x, y):\n",
    "...     return 10 * x + y\n",
    "...\n",
    ">>> b = np.fromfunction(f, (5, 4), dtype=int)\n",
    ">>> b"
   ]
  },
  {
   "cell_type": "code",
   "execution_count": 64,
   "id": "c23539ba",
   "metadata": {},
   "outputs": [
    {
     "data": {
      "text/plain": [
       "np.int64(13)"
      ]
     },
     "execution_count": 64,
     "metadata": {},
     "output_type": "execute_result"
    }
   ],
   "source": [
    " b[1, 3]"
   ]
  },
  {
   "cell_type": "code",
   "execution_count": 67,
   "id": "bda2dacc",
   "metadata": {},
   "outputs": [
    {
     "name": "stdout",
     "output_type": "stream",
     "text": [
      "[[77. 43.]\n",
      " [85. 69.]]\n"
     ]
    }
   ],
   "source": [
    "import numpy as np\n",
    "\n",
    "# create a generator (optionally seed for reproducibility)\n",
    "rg = np.random.default_rng(seed=42)\n",
    "\n",
    "# 2 × 2 array of random numbers in [0, 10), then floor to ints 0‑9\n",
    "a = np.floor(100 * rg.random((2, 2)))\n",
    "\n",
    "print(a)\n",
    "\n"
   ]
  },
  {
   "cell_type": "code",
   "execution_count": 68,
   "id": "b7e42795",
   "metadata": {},
   "outputs": [
    {
     "data": {
      "text/plain": [
       "array([77., 43., 85., 69.])"
      ]
     },
     "execution_count": 68,
     "metadata": {},
     "output_type": "execute_result"
    }
   ],
   "source": [
    "a.ravel()"
   ]
  },
  {
   "cell_type": "code",
   "execution_count": 73,
   "id": "4a797ae9",
   "metadata": {},
   "outputs": [
    {
     "data": {
      "text/plain": [
       "array([[77., 43.],\n",
       "       [85., 69.]])"
      ]
     },
     "execution_count": 73,
     "metadata": {},
     "output_type": "execute_result"
    }
   ],
   "source": [
    "a.reshape(2, 2)"
   ]
  },
  {
   "cell_type": "code",
   "execution_count": 74,
   "id": "513073f2",
   "metadata": {},
   "outputs": [
    {
     "data": {
      "text/plain": [
       "array([[77., 85.],\n",
       "       [43., 69.]])"
      ]
     },
     "execution_count": 74,
     "metadata": {},
     "output_type": "execute_result"
    }
   ],
   "source": [
    "a.T"
   ]
  },
  {
   "cell_type": "code",
   "execution_count": 84,
   "id": "0e2aaeb8",
   "metadata": {},
   "outputs": [],
   "source": [
    " a = np.array([[3., 7., 3., 4.],\n",
    "       [1., 4., 2., 2.],\n",
    "       [7., 2., 4., 9.]])\n",
    " \n",
    "a.resize((1, 6))"
   ]
  },
  {
   "cell_type": "code",
   "execution_count": 85,
   "id": "9ddccbd5",
   "metadata": {},
   "outputs": [
    {
     "data": {
      "text/plain": [
       "array([[3., 7., 3., 4., 1., 4.]])"
      ]
     },
     "execution_count": 85,
     "metadata": {},
     "output_type": "execute_result"
    }
   ],
   "source": [
    "a"
   ]
  },
  {
   "cell_type": "code",
   "execution_count": 96,
   "id": "68f64c77",
   "metadata": {},
   "outputs": [
    {
     "data": {
      "text/plain": [
       "array([[3., 7., 3., 4., 1., 4.]])"
      ]
     },
     "execution_count": 96,
     "metadata": {},
     "output_type": "execute_result"
    }
   ],
   "source": [
    "a.reshape(3,2)\n",
    "a"
   ]
  },
  {
   "cell_type": "code",
   "execution_count": 99,
   "id": "4262cc9e",
   "metadata": {},
   "outputs": [],
   "source": [
    "a = np.floor(10 * rg.random((3, 2)))\n",
    "b = np.floor(10 * rg.random((3, 2)))"
   ]
  },
  {
   "cell_type": "code",
   "execution_count": 102,
   "id": "b8d8d81d",
   "metadata": {},
   "outputs": [
    {
     "data": {
      "text/plain": [
       "array([[4., 2.],\n",
       "       [5., 0.],\n",
       "       [8., 6.]])"
      ]
     },
     "execution_count": 102,
     "metadata": {},
     "output_type": "execute_result"
    }
   ],
   "source": [
    "a\n",
    "\n"
   ]
  },
  {
   "cell_type": "code",
   "execution_count": 103,
   "id": "3b94d4c6",
   "metadata": {},
   "outputs": [
    {
     "data": {
      "text/plain": [
       "array([[7., 3.],\n",
       "       [9., 8.],\n",
       "       [7., 1.]])"
      ]
     },
     "execution_count": 103,
     "metadata": {},
     "output_type": "execute_result"
    }
   ],
   "source": [
    "b"
   ]
  },
  {
   "cell_type": "code",
   "execution_count": 104,
   "id": "f91d68a3",
   "metadata": {},
   "outputs": [
    {
     "data": {
      "text/plain": [
       "array([[4., 2.],\n",
       "       [5., 0.],\n",
       "       [8., 6.],\n",
       "       [7., 3.],\n",
       "       [9., 8.],\n",
       "       [7., 1.]])"
      ]
     },
     "execution_count": 104,
     "metadata": {},
     "output_type": "execute_result"
    }
   ],
   "source": [
    "np.vstack((a, b))"
   ]
  },
  {
   "cell_type": "code",
   "execution_count": 105,
   "id": "99cedf9a",
   "metadata": {},
   "outputs": [
    {
     "data": {
      "text/plain": [
       "array([[4., 2., 7., 3.],\n",
       "       [5., 0., 9., 8.],\n",
       "       [8., 6., 7., 1.]])"
      ]
     },
     "execution_count": 105,
     "metadata": {},
     "output_type": "execute_result"
    }
   ],
   "source": [
    "np.hstack((a, b))"
   ]
  },
  {
   "cell_type": "code",
   "execution_count": 106,
   "id": "ab537c08",
   "metadata": {},
   "outputs": [
    {
     "data": {
      "text/plain": [
       "array([[4., 2., 7., 3.],\n",
       "       [5., 0., 9., 8.],\n",
       "       [8., 6., 7., 1.]])"
      ]
     },
     "execution_count": 106,
     "metadata": {},
     "output_type": "execute_result"
    }
   ],
   "source": [
    "from numpy import newaxis\n",
    ">>> np.column_stack((a, b))"
   ]
  },
  {
   "cell_type": "code",
   "execution_count": 3,
   "id": "e7839ddd",
   "metadata": {},
   "outputs": [],
   "source": [
    "import numpy as np\n",
    "a = np.arange(10)**3"
   ]
  },
  {
   "cell_type": "code",
   "execution_count": 4,
   "id": "d064fa51",
   "metadata": {},
   "outputs": [
    {
     "data": {
      "text/plain": [
       "array([  0,   1,   8,  27,  64, 125, 216, 343, 512, 729])"
      ]
     },
     "execution_count": 4,
     "metadata": {},
     "output_type": "execute_result"
    }
   ],
   "source": [
    "a"
   ]
  },
  {
   "cell_type": "code",
   "execution_count": 6,
   "id": "355448ae",
   "metadata": {},
   "outputs": [
    {
     "data": {
      "text/plain": [
       "array([ 0,  1,  8, 27, 64])"
      ]
     },
     "execution_count": 6,
     "metadata": {},
     "output_type": "execute_result"
    }
   ],
   "source": [
    " a[0:5]"
   ]
  },
  {
   "cell_type": "code",
   "execution_count": 9,
   "id": "7117bf2f",
   "metadata": {},
   "outputs": [
    {
     "data": {
      "text/plain": [
       "array([100,   1, 100,  27, 100, 125, 216, 343, 512, 729])"
      ]
     },
     "execution_count": 9,
     "metadata": {},
     "output_type": "execute_result"
    }
   ],
   "source": [
    "a[:5:2] = 100\n",
    "a"
   ]
  },
  {
   "cell_type": "code",
   "execution_count": 11,
   "id": "88140f92",
   "metadata": {},
   "outputs": [
    {
     "data": {
      "text/plain": [
       "array([729, 512, 343, 216, 125, 100,  27, 100,   1, 100])"
      ]
     },
     "execution_count": 11,
     "metadata": {},
     "output_type": "execute_result"
    }
   ],
   "source": [
    "a[::-1] "
   ]
  },
  {
   "cell_type": "code",
   "execution_count": 14,
   "id": "20f5b469",
   "metadata": {},
   "outputs": [
    {
     "name": "stdout",
     "output_type": "stream",
     "text": [
      "4.641588833612778\n",
      "1.0\n",
      "4.641588833612778\n",
      "3.0\n",
      "4.641588833612778\n",
      "5.0\n",
      "5.999999999999999\n",
      "6.999999999999999\n",
      "7.999999999999999\n",
      "8.999999999999998\n"
     ]
    }
   ],
   "source": [
    "for i in a:\n",
    "     print(i**(1 / 3.))"
   ]
  },
  {
   "cell_type": "code",
   "execution_count": 16,
   "id": "1886f87d",
   "metadata": {},
   "outputs": [
    {
     "name": "stdout",
     "output_type": "stream",
     "text": [
      "-4.641588833612779\n",
      "-1.0\n",
      "-4.641588833612779\n",
      "-3.0\n",
      "-4.641588833612779\n",
      "-5.0\n",
      "-6.0\n",
      "-7.0\n",
      "-8.0\n",
      "-9.0\n"
     ]
    }
   ],
   "source": [
    "for i in a:\n",
    "    print(np.cbrt(-i))"
   ]
  },
  {
   "cell_type": "code",
   "execution_count": 18,
   "id": "516a96f3",
   "metadata": {},
   "outputs": [
    {
     "ename": "NameError",
     "evalue": "name 'rg' is not defined",
     "output_type": "error",
     "traceback": [
      "\u001b[1;31m---------------------------------------------------------------------------\u001b[0m",
      "\u001b[1;31mNameError\u001b[0m                                 Traceback (most recent call last)",
      "\u001b[1;32m~\\AppData\\Local\\Temp/ipykernel_11224/2649309600.py\u001b[0m in \u001b[0;36m<module>\u001b[1;34m\u001b[0m\n\u001b[1;32m----> 1\u001b[1;33m \u001b[0ma\u001b[0m \u001b[1;33m=\u001b[0m \u001b[0mnp\u001b[0m\u001b[1;33m.\u001b[0m\u001b[0mfloor\u001b[0m\u001b[1;33m(\u001b[0m\u001b[1;36m10\u001b[0m \u001b[1;33m*\u001b[0m \u001b[0mrg\u001b[0m\u001b[1;33m.\u001b[0m\u001b[0mrandom\u001b[0m\u001b[1;33m(\u001b[0m\u001b[1;33m(\u001b[0m\u001b[1;36m3\u001b[0m\u001b[1;33m,\u001b[0m \u001b[1;36m4\u001b[0m\u001b[1;33m)\u001b[0m\u001b[1;33m)\u001b[0m\u001b[1;33m)\u001b[0m\u001b[1;33m\u001b[0m\u001b[1;33m\u001b[0m\u001b[0m\n\u001b[0m",
      "\u001b[1;31mNameError\u001b[0m: name 'rg' is not defined"
     ]
    }
   ],
   "source": [
    "\n",
    "a = np.floor(10 * rg.random((3, 4)))"
   ]
  },
  {
   "cell_type": "code",
   "execution_count": 19,
   "id": "d5852769",
   "metadata": {},
   "outputs": [
    {
     "data": {
      "text/plain": [
       "array([100,   1, 100,  27, 100, 125, 216, 343, 512, 729])"
      ]
     },
     "execution_count": 19,
     "metadata": {},
     "output_type": "execute_result"
    }
   ],
   "source": [
    "a.ravel()"
   ]
  },
  {
   "cell_type": "code",
   "execution_count": 28,
   "id": "809df042",
   "metadata": {},
   "outputs": [],
   "source": [
    "\n",
    "a = np.arange(12)**2  # the first 12 square numbers\n",
    "i = np.array([1, 1, 3, 8, 5])  # an array of indices"
   ]
  },
  {
   "cell_type": "code",
   "execution_count": 29,
   "id": "6afb4f70",
   "metadata": {},
   "outputs": [
    {
     "data": {
      "text/plain": [
       "array([ 1,  1,  9, 64, 25])"
      ]
     },
     "execution_count": 29,
     "metadata": {},
     "output_type": "execute_result"
    }
   ],
   "source": [
    "a[i]"
   ]
  },
  {
   "cell_type": "code",
   "execution_count": 30,
   "id": "79dbe189",
   "metadata": {},
   "outputs": [],
   "source": [
    "j = np.array([[3, 4], [9, 7]])"
   ]
  },
  {
   "cell_type": "code",
   "execution_count": 31,
   "id": "44f2bd8f",
   "metadata": {},
   "outputs": [
    {
     "data": {
      "text/plain": [
       "array([[ 9, 16],\n",
       "       [81, 49]])"
      ]
     },
     "execution_count": 31,
     "metadata": {},
     "output_type": "execute_result"
    }
   ],
   "source": [
    "a[j]"
   ]
  },
  {
   "cell_type": "code",
   "execution_count": 34,
   "id": "cc2d2d8b",
   "metadata": {},
   "outputs": [
    {
     "data": {
      "text/plain": [
       "array([[[  0,   0,   0],\n",
       "        [255,   0,   0],\n",
       "        [  0, 255,   0],\n",
       "        [  0,   0,   0]],\n",
       "\n",
       "       [[  0,   0,   0],\n",
       "        [  0,   0, 255],\n",
       "        [255, 255, 255],\n",
       "        [  0,   0,   0]]])"
      ]
     },
     "execution_count": 34,
     "metadata": {},
     "output_type": "execute_result"
    }
   ],
   "source": [
    "palette = np.array([[0, 0, 0],         # black\n",
    "...                     [255, 0, 0],       # red\n",
    "...                     [0, 255, 0],       # green\n",
    "...                     [0, 0, 255],       # blue\n",
    "...                     [255, 255, 255]])  # white\n",
    ">>> image = np.array([[0, 1, 2, 0],  # each value corresponds to a color in the palette\n",
    "...                   [0, 3, 4, 0]])\n",
    ">>> palette[image]  # the (2, 4, 3) color image\n",
    "np.array([[[  0,   0,   0],\n",
    "        [255,   0,   0],\n",
    "        [  0, 255,   0],\n",
    "        [  0,   0,   0]],\n",
    "\n",
    "       [[  0,   0,   0],\n",
    "        [  0,   0, 255],\n",
    "        [255, 255, 255],\n",
    "        [  0,   0,   0]]])"
   ]
  },
  {
   "cell_type": "code",
   "execution_count": 37,
   "id": "23700c48",
   "metadata": {},
   "outputs": [
    {
     "data": {
      "text/plain": [
       "array([[ 2,  5],\n",
       "       [ 7, 11]])"
      ]
     },
     "execution_count": 37,
     "metadata": {},
     "output_type": "execute_result"
    }
   ],
   "source": [
    " a = np.arange(12).reshape(3, 4)\n",
    ">>> a\n",
    "np.array([[ 0,  1,  2,  3],\n",
    "       [ 4,  5,  6,  7],\n",
    "       [ 8,  9, 10, 11]])\n",
    ">>> i = np.array([[0, 1],  # indices for the first dim of `a`\n",
    "...               [1, 2]])\n",
    ">>> j = np.array([[2, 1],  # indices for the second dim\n",
    "...               [3, 3]])\n",
    ">>>\n",
    ">>> a[i, j]  # i and j must have equal shape\n",
    "np.array([[ 2,  5],\n",
    "       [ 7, 11]])\n",
    ">>>"
   ]
  },
  {
   "cell_type": "code",
   "execution_count": 39,
   "id": "de337ec4",
   "metadata": {},
   "outputs": [
    {
     "data": {
      "text/plain": [
       "(array([[0, 1],\n",
       "        [1, 2]]),\n",
       " array([[2, 1],\n",
       "        [3, 3]]))"
      ]
     },
     "execution_count": 39,
     "metadata": {},
     "output_type": "execute_result"
    }
   ],
   "source": [
    "\n",
    "\n",
    "\n",
    "\n",
    "\n",
    "\n",
    "\n",
    "l = (i, j)\n",
    ">>> # equivalent to a[i, j]\n",
    ">>> a[l]\n",
    "np.array([[ 2,  5],\n",
    "       [ 7, 11]])\n",
    "l\n"
   ]
  },
  {
   "cell_type": "code",
   "execution_count": 41,
   "id": "a106beef",
   "metadata": {},
   "outputs": [
    {
     "data": {
      "text/plain": [
       "array([0, 0, 2, 0, 0])"
      ]
     },
     "execution_count": 41,
     "metadata": {},
     "output_type": "execute_result"
    }
   ],
   "source": [
    " a = np.arange(5)\n",
    ">>> a\n",
    "np.array([0, 1, 2, 3, 4])\n",
    ">>> a[[1, 3, 4]] = 0\n",
    ">>> a"
   ]
  },
  {
   "cell_type": "code",
   "execution_count": 43,
   "id": "676de75f",
   "metadata": {},
   "outputs": [
    {
     "data": {
      "text/plain": [
       "array([2, 1, 3, 3, 4])"
      ]
     },
     "execution_count": 43,
     "metadata": {},
     "output_type": "execute_result"
    }
   ],
   "source": [
    "a = np.arange(5)\n",
    ">>> a[[0, 0, 2]] = [1, 2, 3]\n",
    ">>> a\n",
    "np.array([2, 1, 3, 3, 4])"
   ]
  },
  {
   "cell_type": "code",
   "execution_count": 44,
   "id": "838177e3",
   "metadata": {},
   "outputs": [
    {
     "data": {
      "text/plain": [
       "array([1, 1, 3, 3, 4])"
      ]
     },
     "execution_count": 44,
     "metadata": {},
     "output_type": "execute_result"
    }
   ],
   "source": [
    " a = np.arange(5)\n",
    ">>> a[[0, 0, 2]] += 1\n",
    ">>> a"
   ]
  },
  {
   "cell_type": "code",
   "execution_count": 49,
   "id": "8196004c",
   "metadata": {},
   "outputs": [],
   "source": [
    " a = np.arange(10)\n",
    " b = a > 5"
   ]
  },
  {
   "cell_type": "code",
   "execution_count": 50,
   "id": "4f558103",
   "metadata": {},
   "outputs": [
    {
     "data": {
      "text/plain": [
       "array([False, False, False, False, False, False,  True,  True,  True,\n",
       "        True])"
      ]
     },
     "execution_count": 50,
     "metadata": {},
     "output_type": "execute_result"
    }
   ],
   "source": [
    "b"
   ]
  },
  {
   "cell_type": "code",
   "execution_count": 51,
   "id": "cc7a6608",
   "metadata": {},
   "outputs": [
    {
     "data": {
      "text/plain": [
       "array([6, 7, 8, 9])"
      ]
     },
     "execution_count": 51,
     "metadata": {},
     "output_type": "execute_result"
    }
   ],
   "source": [
    "a[b]"
   ]
  },
  {
   "cell_type": "code",
   "execution_count": 52,
   "id": "5c65bbb3",
   "metadata": {},
   "outputs": [],
   "source": [
    "a[b] = 0"
   ]
  },
  {
   "cell_type": "code",
   "execution_count": 53,
   "id": "6ef6daa2",
   "metadata": {},
   "outputs": [
    {
     "data": {
      "text/plain": [
       "array([0, 1, 2, 3, 4, 5, 0, 0, 0, 0])"
      ]
     },
     "execution_count": 53,
     "metadata": {},
     "output_type": "execute_result"
    }
   ],
   "source": [
    "a"
   ]
  },
  {
   "cell_type": "code",
   "execution_count": 60,
   "id": "fe5c5d05",
   "metadata": {},
   "outputs": [],
   "source": [
    "a[b] = 0 "
   ]
  },
  {
   "cell_type": "code",
   "execution_count": 61,
   "id": "46c2cfc1",
   "metadata": {},
   "outputs": [
    {
     "data": {
      "text/plain": [
       "array([0, 1, 2, 3, 4, 5, 0, 0, 0, 0])"
      ]
     },
     "execution_count": 61,
     "metadata": {},
     "output_type": "execute_result"
    }
   ],
   "source": [
    "a"
   ]
  },
  {
   "cell_type": "code",
   "execution_count": 63,
   "id": "587860a3",
   "metadata": {},
   "outputs": [],
   "source": [
    "a = np.array ([0, 1, 2, 3, 4, 5, 0, 0, 0, 0]).reshape(2,5)"
   ]
  },
  {
   "cell_type": "code",
   "execution_count": 64,
   "id": "e115e830",
   "metadata": {},
   "outputs": [
    {
     "data": {
      "text/plain": [
       "array([[0, 1, 2, 3, 4],\n",
       "       [5, 0, 0, 0, 0]])"
      ]
     },
     "execution_count": 64,
     "metadata": {},
     "output_type": "execute_result"
    }
   ],
   "source": [
    "a"
   ]
  },
  {
   "cell_type": "code",
   "execution_count": 10,
   "id": "c7c602b3",
   "metadata": {},
   "outputs": [
    {
     "name": "stdout",
     "output_type": "stream",
     "text": [
      "Requirement already satisfied: numpy<2 in c:\\users\\akash\\anaconda3\\lib\\site-packages (1.26.4)\n"
     ]
    },
    {
     "data": {
      "image/png": "[encoded data removed]",
      "text/plain": [
       "<Figure size 720x720 with 2 Axes>"
      ]
     },
     "metadata": {
      "needs_background": "light"
     },
     "output_type": "display_data"
    }
   ],
   "source": [
    "!pip install \"numpy<2\"\n",
    "\n",
    "\n",
    "\n",
    "import numpy as np\n",
    "import matplotlib.pyplot as plt\n",
    "\n",
    "def mandelbrot(h, w, maxit=20, r=2):\n",
    "    \"\"\"Returns an image of the Mandelbrot fractal of size (h,w).\"\"\"\n",
    "    x = np.linspace(-2.5, 1.5, 4*h + 1)\n",
    "    y = np.linspace(-1.5, 1.5, 3*w + 1)\n",
    "    A, B = np.meshgrid(x, y)\n",
    "    C = A + B*1j\n",
    "    z = np.zeros_like(C)\n",
    "    divtime = maxit + np.zeros(z.shape, dtype=int)\n",
    "\n",
    "    for i in range(maxit):\n",
    "        z = z**2 + C\n",
    "        diverge = abs(z) > r\n",
    "        div_now = diverge & (divtime == maxit)\n",
    "        divtime[div_now] = i\n",
    "        z[diverge] = r  # freeze the diverging values\n",
    "\n",
    "    return divtime\n",
    "\n",
    "# Generate and plot\n",
    "plt.figure(figsize=(10, 10))\n",
    "plt.imshow(mandelbrot(400, 400), cmap='hot', extent=(-2.5, 1.5, -1.5, 1.5))\n",
    "plt.title('Mandelbrot Set')\n",
    "plt.xlabel('Re')\n",
    "plt.ylabel('Im')\n",
    "plt.colorbar(label='Divergence Iteration')\n",
    "plt.show()\n"
   ]
  },
  {
   "cell_type": "code",
   "execution_count": 5,
   "id": "ae821244",
   "metadata": {},
   "outputs": [
    {
     "data": {
      "text/plain": [
       "array([ 4, 10])"
      ]
     },
     "execution_count": 5,
     "metadata": {},
     "output_type": "execute_result"
    }
   ],
   "source": [
    ">>> a = np.arange(12).reshape(3, 4)\n",
    ">>> b1 = np.array([False, True, True])         # first dim selection\n",
    ">>> b2 = np.array([True, False, True, False])  # second dim selection\n",
    ">>>\n",
    ">>> a[b1, :]                                   # selecting rows\n",
    "np.array([[ 4,  5,  6,  7],\n",
    "       [ 8,  9, 10, 11]])\n",
    ">>>\n",
    ">>> a[b1]                                      # same thing\n",
    "np.array([[ 4,  5,  6,  7],\n",
    "       [ 8,  9, 10, 11]])\n",
    ">>>\n",
    ">>> a[:, b2]                                   # selecting columns\n",
    "np.array([[ 0,  2],\n",
    "       [ 4,  6],\n",
    "       [ 8, 10]])\n",
    ">>>\n",
    ">>> a[b1, b2]                                  # a weird thing to do\n",
    "np.array([ 4, 10])\n"
   ]
  },
  {
   "cell_type": "code",
   "execution_count": 6,
   "id": "67dda8a1",
   "metadata": {},
   "outputs": [
    {
     "data": {
      "text/plain": [
       "(2, 5, 3)"
      ]
     },
     "execution_count": 6,
     "metadata": {},
     "output_type": "execute_result"
    }
   ],
   "source": [
    "a = np.arange(30)\n",
    ">>> b = a.reshape((2, -1, 3))  # -1 means \"whatever is needed\"\n",
    ">>> b.shape"
   ]
  },
  {
   "cell_type": "code",
   "execution_count": 7,
   "id": "328ac5d1",
   "metadata": {},
   "outputs": [
    {
     "data": {
      "text/plain": [
       "array([[[ 0,  1,  2],\n",
       "        [ 3,  4,  5],\n",
       "        [ 6,  7,  8],\n",
       "        [ 9, 10, 11],\n",
       "        [12, 13, 14]],\n",
       "\n",
       "       [[15, 16, 17],\n",
       "        [18, 19, 20],\n",
       "        [21, 22, 23],\n",
       "        [24, 25, 26],\n",
       "        [27, 28, 29]]])"
      ]
     },
     "execution_count": 7,
     "metadata": {},
     "output_type": "execute_result"
    }
   ],
   "source": [
    "b"
   ]
  },
  {
   "cell_type": "code",
   "execution_count": 15,
   "id": "34c0167b",
   "metadata": {},
   "outputs": [
    {
     "data": {
      "text/plain": [
       "array([[0, 2, 4, 6, 8],\n",
       "       [0, 1, 2, 3, 4]])"
      ]
     },
     "execution_count": 15,
     "metadata": {},
     "output_type": "execute_result"
    }
   ],
   "source": [
    " x = np.arange(0, 10, 2)\n",
    ">>> y = np.arange(5)\n",
    ">>> m = np.vstack([x, y])\n",
    ">>> m\n",
    "\n",
    "\n"
   ]
  },
  {
   "cell_type": "code",
   "execution_count": 16,
   "id": "c7defd03",
   "metadata": {},
   "outputs": [
    {
     "data": {
      "text/plain": [
       "array([0, 2, 4, 6, 8, 0, 1, 2, 3, 4])"
      ]
     },
     "execution_count": 16,
     "metadata": {},
     "output_type": "execute_result"
    }
   ],
   "source": [
    "xy = np.hstack([x, y])\n",
    ">>> xy"
   ]
  },
  {
   "cell_type": "code",
   "execution_count": 21,
   "id": "ef0dd6ae",
   "metadata": {},
   "outputs": [
    {
     "data": {
      "text/plain": [
       "[<matplotlib.lines.Line2D at 0x2031693ecd0>]"
      ]
     },
     "execution_count": 21,
     "metadata": {},
     "output_type": "execute_result"
    },
    {
     "data": {
      "image/png": "[encoded data removed]",
      "text/plain": [
       "<Figure size 432x288 with 1 Axes>"
      ]
     },
     "metadata": {
      "needs_background": "light"
     },
     "output_type": "display_data"
    }
   ],
   "source": [
    ">>> import numpy as np\n",
    ">>> rg = np.random.default_rng(1)\n",
    ">>> import matplotlib.pyplot as plt\n",
    ">>> # Build a vector of 10000 normal deviates with variance 0.5^2 and mean 2\n",
    ">>> mu, sigma = 2, 0.5\n",
    ">>> v = rg.normal(mu, sigma, 10000)\n",
    ">>> # Plot a normalized histogram with 50 bins\n",
    ">>> plt.hist(v, bins=50, density=True)       # matplotlib version (plot)\n",
    "\n",
    ">>> # Compute the histogram with numpy and then plot it\n",
    ">>> (n, bins) = np.histogram(v, bins=50, density=True)  # NumPy version (no plot)\n",
    ">>> plt.plot(.5 * (bins[1:] + bins[:-1]), n) "
   ]
  },
  {
   "cell_type": "code",
   "execution_count": 38,
   "id": "47aa82d9",
   "metadata": {},
   "outputs": [
    {
     "data": {
      "text/plain": [
       "array([10,  2,  3, 40,  5,  6])"
      ]
     },
     "execution_count": 38,
     "metadata": {},
     "output_type": "execute_result"
    }
   ],
   "source": [
    "a = np.array([1, 2, 3, 4, 5, 6])\n",
    "a\n",
    "a[5]\n",
    "\n",
    "a[0] = 10\n",
    "\n",
    "a[:3]\n",
    "a\n",
    "\n",
    "b = a[3:]\n",
    "b\n",
    "\n",
    "b[0] = 40\n",
    "a"
   ]
  },
  {
   "cell_type": "code",
   "execution_count": 40,
   "id": "db73a4a3",
   "metadata": {},
   "outputs": [
    {
     "data": {
      "text/plain": [
       "array([[ 1,  2,  3,  4],\n",
       "       [ 5,  6,  7,  8],\n",
       "       [ 9, 10, 11, 12]])"
      ]
     },
     "execution_count": 40,
     "metadata": {},
     "output_type": "execute_result"
    }
   ],
   "source": [
    ">>> a = np.array([[1, 2, 3, 4], [5, 6, 7, 8], [9, 10, 11, 12]])\n",
    "a"
   ]
  },
  {
   "cell_type": "code",
   "execution_count": 50,
   "id": "97365e98",
   "metadata": {},
   "outputs": [
    {
     "data": {
      "text/plain": [
       "dtype('int32')"
      ]
     },
     "execution_count": 50,
     "metadata": {},
     "output_type": "execute_result"
    }
   ],
   "source": [
    "a[1, 2]\n",
    "\n",
    "a.ndim\n",
    "\n",
    "a.shape\n",
    "\n",
    "len(a.shape) == a.ndim\n",
    "\n",
    "a.size\n",
    "\n",
    "a.dtype"
   ]
  },
  {
   "cell_type": "code",
   "execution_count": 48,
   "id": "1a1c337b",
   "metadata": {},
   "outputs": [
    {
     "data": {
      "text/plain": [
       "True"
      ]
     },
     "execution_count": 48,
     "metadata": {},
     "output_type": "execute_result"
    }
   ],
   "source": [
    ">>> import math\n",
    ">>> a.size == math.prod(a.shape)"
   ]
  },
  {
   "cell_type": "code",
   "execution_count": 52,
   "id": "b3b3c111",
   "metadata": {},
   "outputs": [
    {
     "data": {
      "text/plain": [
       "array([1., 1.])"
      ]
     },
     "execution_count": 52,
     "metadata": {},
     "output_type": "execute_result"
    }
   ],
   "source": [
    "np.zeros(2)\n",
    "np.ones(2)"
   ]
  },
  {
   "cell_type": "code",
   "execution_count": 55,
   "id": "8e91812b",
   "metadata": {},
   "outputs": [
    {
     "data": {
      "text/plain": [
       "array([ 3.14, 42.  ])"
      ]
     },
     "execution_count": 55,
     "metadata": {},
     "output_type": "execute_result"
    }
   ],
   "source": [
    ">>> # Create an empty array with 2 elements\n",
    ">>> np.empty(2) \n"
   ]
  },
  {
   "cell_type": "code",
   "execution_count": 57,
   "id": "52fe3f97",
   "metadata": {},
   "outputs": [
    {
     "data": {
      "text/plain": [
       "array([2, 4, 6, 8])"
      ]
     },
     "execution_count": 57,
     "metadata": {},
     "output_type": "execute_result"
    }
   ],
   "source": [
    ">>> np.arange(4)\n",
    "np.arange(2, 9, 2)"
   ]
  },
  {
   "cell_type": "code",
   "execution_count": 59,
   "id": "8c49a23d",
   "metadata": {},
   "outputs": [
    {
     "data": {
      "text/plain": [
       "array([ 0. ,  2.5,  5. ,  7.5, 10. ])"
      ]
     },
     "execution_count": 59,
     "metadata": {},
     "output_type": "execute_result"
    }
   ],
   "source": [
    "np.linspace(0, 10, 5)"
   ]
  },
  {
   "cell_type": "code",
   "execution_count": 62,
   "id": "a2aa3faf",
   "metadata": {},
   "outputs": [
    {
     "data": {
      "text/plain": [
       "array([1, 1], dtype=int64)"
      ]
     },
     "execution_count": 62,
     "metadata": {},
     "output_type": "execute_result"
    }
   ],
   "source": [
    " x = np.ones(2, dtype=np.int64)\n",
    " x"
   ]
  },
  {
   "cell_type": "code",
   "execution_count": 66,
   "id": "fbf47a9b",
   "metadata": {},
   "outputs": [],
   "source": [
    ">>> arr = np.array([2, 1, 5, 3, 7, 4, 6, 8])"
   ]
  },
  {
   "cell_type": "code",
   "execution_count": 67,
   "id": "ed399029",
   "metadata": {},
   "outputs": [
    {
     "data": {
      "text/plain": [
       "array([1, 2, 3, 4, 5, 6, 7, 8])"
      ]
     },
     "execution_count": 67,
     "metadata": {},
     "output_type": "execute_result"
    }
   ],
   "source": [
    ">>> np.sort(arr)"
   ]
  },
  {
   "cell_type": "code",
   "execution_count": 69,
   "id": "a2ae76ec",
   "metadata": {},
   "outputs": [
    {
     "data": {
      "text/plain": [
       "array([1, 2, 3, 4, 5, 6, 7, 8])"
      ]
     },
     "execution_count": 69,
     "metadata": {},
     "output_type": "execute_result"
    }
   ],
   "source": [
    ">>> a = np.array([1, 2, 3, 4])\n",
    ">>> b = np.array([5, 6, 7, 8])\n",
    "\n",
    ">>> np.concatenate((a, b))"
   ]
  },
  {
   "cell_type": "code",
   "execution_count": 71,
   "id": "e696319f",
   "metadata": {},
   "outputs": [
    {
     "data": {
      "text/plain": [
       "array([[1, 2],\n",
       "       [3, 4],\n",
       "       [5, 6]])"
      ]
     },
     "execution_count": 71,
     "metadata": {},
     "output_type": "execute_result"
    }
   ],
   "source": [
    ">>> x = np.array([[1, 2], [3, 4]])\n",
    ">>> y = np.array([[5, 6]])\n",
    "\n",
    ">>> np.concatenate((x, y), axis=0)"
   ]
  },
  {
   "cell_type": "code",
   "execution_count": 79,
   "id": "61c5a8be",
   "metadata": {},
   "outputs": [
    {
     "data": {
      "text/plain": [
       "array([[0, 1, 2, 3],\n",
       "       [4, 5, 6, 7],\n",
       "       [0, 1, 2, 3],\n",
       "       [4, 5, 6, 7],\n",
       "       [0, 1, 2, 3],\n",
       "       [4, 5, 6, 7]])"
      ]
     },
     "execution_count": 79,
     "metadata": {},
     "output_type": "execute_result"
    }
   ],
   "source": [
    ">>> a = np.array([[[0, 1, 2, 3],\n",
    "...                            [4, 5, 6, 7]],\n",
    "...\n",
    "...                           [[0, 1, 2, 3],\n",
    "...                            [4, 5, 6, 7]],\n",
    "...\n",
    "...                           [[0 ,1 ,2, 3],\n",
    "...                            [4, 5, 6, 7]]])\n",
    "\n",
    ">>> a.ndim\n",
    "\n",
    ">>> a.size\n",
    "\n",
    ">>> a.shape\n",
    "\n",
    "a.reshape(6, 4)"
   ]
  },
  {
   "cell_type": "code",
   "execution_count": 80,
   "id": "cfbf54d8",
   "metadata": {},
   "outputs": [
    {
     "name": "stdout",
     "output_type": "stream",
     "text": [
      "[0 1 2 3 4 5]\n"
     ]
    }
   ],
   "source": [
    ">>> a = np.arange(6)\n",
    ">>> print(a)"
   ]
  },
  {
   "cell_type": "code",
   "execution_count": 81,
   "id": "7af6ada9",
   "metadata": {},
   "outputs": [
    {
     "name": "stdout",
     "output_type": "stream",
     "text": [
      "[[0 1]\n",
      " [2 3]\n",
      " [4 5]]\n"
     ]
    }
   ],
   "source": [
    ">>> b = a.reshape(3, 2)\n",
    ">>> print(b)"
   ]
  },
  {
   "cell_type": "code",
   "execution_count": 84,
   "id": "3396a448",
   "metadata": {},
   "outputs": [
    {
     "ename": "TypeError",
     "evalue": "reshape() got an unexpected keyword argument 'shape'",
     "output_type": "error",
     "traceback": [
      "\u001b[1;31m---------------------------------------------------------------------------\u001b[0m",
      "\u001b[1;31mTypeError\u001b[0m                                 Traceback (most recent call last)",
      "\u001b[1;32m~\\AppData\\Local\\Temp/ipykernel_14072/2780535720.py\u001b[0m in \u001b[0;36m<module>\u001b[1;34m\u001b[0m\n\u001b[1;32m----> 1\u001b[1;33m \u001b[0mnp\u001b[0m\u001b[1;33m.\u001b[0m\u001b[0mreshape\u001b[0m\u001b[1;33m(\u001b[0m\u001b[0ma\u001b[0m\u001b[1;33m,\u001b[0m \u001b[0mshape\u001b[0m\u001b[1;33m=\u001b[0m\u001b[1;33m(\u001b[0m\u001b[1;36m1\u001b[0m\u001b[1;33m,\u001b[0m \u001b[1;36m6\u001b[0m\u001b[1;33m)\u001b[0m\u001b[1;33m,\u001b[0m \u001b[0morder\u001b[0m\u001b[1;33m=\u001b[0m\u001b[1;34m'C'\u001b[0m\u001b[1;33m)\u001b[0m\u001b[1;33m\u001b[0m\u001b[1;33m\u001b[0m\u001b[0m\n\u001b[0m",
      "\u001b[1;31mTypeError\u001b[0m: reshape() got an unexpected keyword argument 'shape'"
     ]
    }
   ],
   "source": [
    ">>> np.reshape(a, shape=(1, 6), order='C')\n"
   ]
  },
  {
   "cell_type": "code",
   "execution_count": 92,
   "id": "4d9d6c48",
   "metadata": {},
   "outputs": [
    {
     "data": {
      "text/plain": [
       "array([1, 2, 3, 4, 5, 6])"
      ]
     },
     "execution_count": 92,
     "metadata": {},
     "output_type": "execute_result"
    }
   ],
   "source": [
    ">>> a = np.array([1, 2, 3, 4, 5, 6])\n",
    ">>> a.shape\n",
    "a"
   ]
  },
  {
   "cell_type": "code",
   "execution_count": 91,
   "id": "5aca7b6d",
   "metadata": {},
   "outputs": [
    {
     "data": {
      "text/plain": [
       "array([[1, 2, 3, 4, 5, 6]])"
      ]
     },
     "execution_count": 91,
     "metadata": {},
     "output_type": "execute_result"
    }
   ],
   "source": [
    ">>> a2 = a[np.newaxis, :]\n",
    ">>> a2.shape\n",
    "a2"
   ]
  },
  {
   "cell_type": "code",
   "execution_count": 90,
   "id": "9c28db0d",
   "metadata": {},
   "outputs": [
    {
     "data": {
      "text/plain": [
       "array([[[1, 2, 3, 4, 5, 6]]])"
      ]
     },
     "execution_count": 90,
     "metadata": {},
     "output_type": "execute_result"
    }
   ],
   "source": [
    ">>> a3 = a2[np.newaxis, :]\n",
    ">>> a3.shape\n",
    "a3"
   ]
  },
  {
   "cell_type": "code",
   "execution_count": 89,
   "id": "a40da716",
   "metadata": {},
   "outputs": [
    {
     "data": {
      "text/plain": [
       "array([[[[1, 2, 3, 4, 5, 6]]]])"
      ]
     },
     "execution_count": 89,
     "metadata": {},
     "output_type": "execute_result"
    }
   ],
   "source": [
    ">>> a4 = a3[np.newaxis, :]\n",
    ">>> a4.shape\n",
    "a4"
   ]
  },
  {
   "cell_type": "code",
   "execution_count": 93,
   "id": "f86b20c2",
   "metadata": {},
   "outputs": [
    {
     "data": {
      "text/plain": [
       "(1, 6)"
      ]
     },
     "execution_count": 93,
     "metadata": {},
     "output_type": "execute_result"
    }
   ],
   "source": [
    ">>> row_vector = a[np.newaxis, :]\n",
    ">>> row_vector.shape"
   ]
  },
  {
   "cell_type": "code",
   "execution_count": 94,
   "id": "3007d041",
   "metadata": {},
   "outputs": [
    {
     "data": {
      "text/plain": [
       "(6, 1)"
      ]
     },
     "execution_count": 94,
     "metadata": {},
     "output_type": "execute_result"
    }
   ],
   "source": [
    ">>> col_vector = a[:, np.newaxis]\n",
    ">>> col_vector.shape"
   ]
  },
  {
   "cell_type": "code",
   "execution_count": 95,
   "id": "8514a355",
   "metadata": {},
   "outputs": [
    {
     "data": {
      "text/plain": [
       "(6, 1)"
      ]
     },
     "execution_count": 95,
     "metadata": {},
     "output_type": "execute_result"
    }
   ],
   "source": [
    ">>> b = np.expand_dims(a, axis=1)\n",
    ">>> b.shape"
   ]
  },
  {
   "cell_type": "code",
   "execution_count": 96,
   "id": "e85eeeb8",
   "metadata": {},
   "outputs": [
    {
     "data": {
      "text/plain": [
       "(1, 6)"
      ]
     },
     "execution_count": 96,
     "metadata": {},
     "output_type": "execute_result"
    }
   ],
   "source": [
    ">>> c = np.expand_dims(a, axis=0)\n",
    ">>> c.shape"
   ]
  },
  {
   "cell_type": "code",
   "execution_count": 98,
   "id": "411c811e",
   "metadata": {},
   "outputs": [
    {
     "data": {
      "text/plain": [
       "array([2, 3])"
      ]
     },
     "execution_count": 98,
     "metadata": {},
     "output_type": "execute_result"
    }
   ],
   "source": [
    ">>> data = np.array([1, 2, 3])\n",
    "\n",
    ">>> data[1]\n",
    "2\n",
    ">>> data[0:2]\n",
    "np.array([1, 2])\n",
    ">>> data[1:]\n",
    "np.array([2, 3])\n",
    ">>> data[-2:]\n",
    "np.array([2, 3])"
   ]
  },
  {
   "cell_type": "code",
   "execution_count": 100,
   "id": "92ab0067",
   "metadata": {},
   "outputs": [
    {
     "data": {
      "text/plain": [
       "array([[ 1,  2,  3,  4],\n",
       "       [ 5,  6,  7,  8],\n",
       "       [ 9, 10, 11, 12]])"
      ]
     },
     "execution_count": 100,
     "metadata": {},
     "output_type": "execute_result"
    }
   ],
   "source": [
    ">>> a = np.array([[1, 2, 3, 4], [5, 6, 7, 8], [9, 10, 11, 12]])\n",
    "a"
   ]
  },
  {
   "cell_type": "code",
   "execution_count": 101,
   "id": "9f7bf030",
   "metadata": {},
   "outputs": [
    {
     "name": "stdout",
     "output_type": "stream",
     "text": [
      "[1 2 3 4]\n"
     ]
    }
   ],
   "source": [
    ">>> print(a[a < 5])"
   ]
  },
  {
   "cell_type": "code",
   "execution_count": 102,
   "id": "a3258c83",
   "metadata": {},
   "outputs": [
    {
     "name": "stdout",
     "output_type": "stream",
     "text": [
      "[ 5  6  7  8  9 10 11 12]\n"
     ]
    }
   ],
   "source": [
    ">>> five_up = (a >= 5)\n",
    ">>> print(a[five_up])"
   ]
  },
  {
   "cell_type": "code",
   "execution_count": 103,
   "id": "2e42ce85",
   "metadata": {},
   "outputs": [
    {
     "name": "stdout",
     "output_type": "stream",
     "text": [
      "[ 2  4  6  8 10 12]\n"
     ]
    }
   ],
   "source": [
    ">>> divisible_by_2 = a[a%2==0]\n",
    ">>> print(divisible_by_2)"
   ]
  },
  {
   "cell_type": "code",
   "execution_count": 104,
   "id": "b745b363",
   "metadata": {},
   "outputs": [
    {
     "name": "stdout",
     "output_type": "stream",
     "text": [
      "[ 3  4  5  6  7  8  9 10]\n"
     ]
    }
   ],
   "source": [
    ">>> c = a[(a > 2) & (a < 11)]\n",
    ">>> print(c)"
   ]
  },
  {
   "cell_type": "code",
   "execution_count": 107,
   "id": "9f273ab9",
   "metadata": {},
   "outputs": [
    {
     "name": "stdout",
     "output_type": "stream",
     "text": [
      "[]\n"
     ]
    }
   ],
   "source": [
    ">>> c = a[(a < 3) & (a > 10)]\n",
    ">>> print(c)"
   ]
  },
  {
   "cell_type": "code",
   "execution_count": 108,
   "id": "aa7e827e",
   "metadata": {},
   "outputs": [
    {
     "name": "stdout",
     "output_type": "stream",
     "text": [
      "[[False False  True  True]\n",
      " [ True  True  True  True]\n",
      " [ True  True  True  True]]\n"
     ]
    }
   ],
   "source": [
    ">>> five_up = (a>2) | (a==5)\n",
    ">>> print(five_up)"
   ]
  },
  {
   "cell_type": "code",
   "execution_count": 110,
   "id": "2b221391",
   "metadata": {},
   "outputs": [
    {
     "name": "stdout",
     "output_type": "stream",
     "text": [
      "(array([0, 0, 0, 0], dtype=int64), array([0, 1, 2, 3], dtype=int64))\n",
      "[1 2 3 4]\n"
     ]
    }
   ],
   "source": [
    "\n",
    "\n",
    ">>> b = np.nonzero(a < 5)\n",
    ">>> print(b)\n",
    "\n",
    "print(a[b])"
   ]
  },
  {
   "cell_type": "code",
   "execution_count": 111,
   "id": "f5a72408",
   "metadata": {},
   "outputs": [
    {
     "name": "stdout",
     "output_type": "stream",
     "text": [
      "(0, 0)\n",
      "(0, 1)\n",
      "(0, 2)\n",
      "(0, 3)\n"
     ]
    }
   ],
   "source": [
    ">>> list_of_coordinates= list(zip(b[0], b[1]))\n",
    "\n",
    ">>> for coord in list_of_coordinates:\n",
    "...     print(coord)"
   ]
  },
  {
   "cell_type": "code",
   "execution_count": 112,
   "id": "ee7e7036",
   "metadata": {},
   "outputs": [
    {
     "name": "stdout",
     "output_type": "stream",
     "text": [
      "(array([], dtype=int64), array([], dtype=int64))\n"
     ]
    }
   ],
   "source": [
    ">>> not_there = np.nonzero(a == 42)\n",
    ">>> print(not_there)"
   ]
  },
  {
   "cell_type": "code",
   "execution_count": 115,
   "id": "bbf0ac26",
   "metadata": {},
   "outputs": [
    {
     "data": {
      "text/plain": [
       "array([[1, 1],\n",
       "       [2, 2],\n",
       "       [3, 3],\n",
       "       [4, 4]])"
      ]
     },
     "execution_count": 115,
     "metadata": {},
     "output_type": "execute_result"
    }
   ],
   "source": [
    ">>> a1 = np.array([[1, 1],\n",
    "...                [2, 2]])\n",
    "\n",
    ">>> a2 = np.array([[3, 3],\n",
    "...                [4, 4]])\n",
    "\n",
    ">>> np.vstack((a1, a2))"
   ]
  },
  {
   "cell_type": "code",
   "execution_count": 117,
   "id": "6f30e31e",
   "metadata": {},
   "outputs": [
    {
     "data": {
      "text/plain": [
       "array([4, 4, 6, 6])"
      ]
     },
     "execution_count": 117,
     "metadata": {},
     "output_type": "execute_result"
    }
   ],
   "source": [
    ">>> np.hstack((a1, a2))\n"
   ]
  },
  {
   "cell_type": "code",
   "execution_count": 118,
   "id": "ab77c4b7",
   "metadata": {},
   "outputs": [
    {
     "data": {
      "text/plain": [
       "array([[4, 4],\n",
       "       [6, 6]])"
      ]
     },
     "execution_count": 118,
     "metadata": {},
     "output_type": "execute_result"
    }
   ],
   "source": [
    ">>> np.vstack((a1 + a2))"
   ]
  },
  {
   "cell_type": "code",
   "execution_count": 119,
   "id": "c159d279",
   "metadata": {},
   "outputs": [
    {
     "data": {
      "text/plain": [
       "array([[1, 1, 3, 3],\n",
       "       [2, 2, 4, 4]])"
      ]
     },
     "execution_count": 119,
     "metadata": {},
     "output_type": "execute_result"
    }
   ],
   "source": [
    ">>> np.hstack((a1, a2))"
   ]
  },
  {
   "cell_type": "code",
   "execution_count": 128,
   "id": "9c47c32b",
   "metadata": {},
   "outputs": [
    {
     "data": {
      "text/plain": [
       "[array([[ 1],\n",
       "        [13]]),\n",
       " array([[ 2],\n",
       "        [14]]),\n",
       " array([[ 3],\n",
       "        [15]]),\n",
       " array([[ 4],\n",
       "        [16]]),\n",
       " array([[ 5],\n",
       "        [17]]),\n",
       " array([[ 6],\n",
       "        [18]]),\n",
       " array([[ 7],\n",
       "        [19]]),\n",
       " array([[ 8],\n",
       "        [20]]),\n",
       " array([[ 9],\n",
       "        [21]]),\n",
       " array([[10],\n",
       "        [22]]),\n",
       " array([[11],\n",
       "        [23]]),\n",
       " array([[12],\n",
       "        [24]])]"
      ]
     },
     "execution_count": 128,
     "metadata": {},
     "output_type": "execute_result"
    }
   ],
   "source": [
    ">>> x = np.arange(1, 25)\n",
    ">>> x = np.arange(1, 25).reshape(2, 12)\n",
    "\n",
    ">>> x\n",
    "np.array([[ 1,  2,  3,  4,  5,  6,  7,  8,  9, 10, 11, 12],\n",
    "       [13, 14, 15, 16, 17, 18, 19, 20, 21, 22, 23, 24]])\n",
    "\n",
    ">>> np.hsplit(x, 12)"
   ]
  },
  {
   "cell_type": "code",
   "execution_count": 130,
   "id": "aaf796a5",
   "metadata": {},
   "outputs": [
    {
     "data": {
      "text/plain": [
       "array([[ 1,  2,  3,  4],\n",
       "       [ 5,  6,  7,  8],\n",
       "       [ 9, 10, 11, 12]])"
      ]
     },
     "execution_count": 130,
     "metadata": {},
     "output_type": "execute_result"
    }
   ],
   "source": [
    ">>> a = np.array([[1, 2, 3, 4], [5, 6, 7, 8], [9, 10, 11, 12]])\n",
    "a"
   ]
  },
  {
   "cell_type": "code",
   "execution_count": 133,
   "id": "8b22e0c5",
   "metadata": {},
   "outputs": [
    {
     "data": {
      "text/plain": [
       "array([1, 2, 3, 4])"
      ]
     },
     "execution_count": 133,
     "metadata": {},
     "output_type": "execute_result"
    }
   ],
   "source": [
    ">>> b1 = a[0, :]\n",
    ">>> b1"
   ]
  },
  {
   "cell_type": "code",
   "execution_count": 134,
   "id": "535ede2a",
   "metadata": {},
   "outputs": [
    {
     "data": {
      "text/plain": [
       "array([99,  2,  3,  4])"
      ]
     },
     "execution_count": 134,
     "metadata": {},
     "output_type": "execute_result"
    }
   ],
   "source": [
    ">>> b1[0] = 99\n",
    ">>> b1"
   ]
  },
  {
   "cell_type": "code",
   "execution_count": 135,
   "id": "ed5c2226",
   "metadata": {},
   "outputs": [
    {
     "data": {
      "text/plain": [
       "array([[99,  2,  3,  4],\n",
       "       [ 5,  6,  7,  8],\n",
       "       [ 9, 10, 11, 12]])"
      ]
     },
     "execution_count": 135,
     "metadata": {},
     "output_type": "execute_result"
    }
   ],
   "source": [
    ">>> a"
   ]
  },
  {
   "cell_type": "code",
   "execution_count": 137,
   "id": "ca8673e0",
   "metadata": {},
   "outputs": [
    {
     "data": {
      "text/plain": [
       "array([[99,  2,  3,  4],\n",
       "       [ 5,  6,  7,  8],\n",
       "       [ 9, 10, 11, 12]])"
      ]
     },
     "execution_count": 137,
     "metadata": {},
     "output_type": "execute_result"
    }
   ],
   "source": [
    ">>> b2 = a.copy()\n",
    "b2"
   ]
  },
  {
   "cell_type": "code",
   "execution_count": 138,
   "id": "9262b3ca",
   "metadata": {},
   "outputs": [
    {
     "data": {
      "text/plain": [
       "array([2, 3])"
      ]
     },
     "execution_count": 138,
     "metadata": {},
     "output_type": "execute_result"
    }
   ],
   "source": [
    ">>> data = np.array([1, 2])\n",
    ">>> ones = np.ones(2, dtype=int)\n",
    ">>> data + ones"
   ]
  },
  {
   "cell_type": "code",
   "execution_count": 141,
   "id": "160ec6fc",
   "metadata": {},
   "outputs": [
    {
     "data": {
      "text/plain": [
       "array([0, 1])"
      ]
     },
     "execution_count": 141,
     "metadata": {},
     "output_type": "execute_result"
    }
   ],
   "source": [
    ">>> data - ones\n",
    "np.array([0, 1])\n"
   ]
  },
  {
   "cell_type": "code",
   "execution_count": 142,
   "id": "3f93beb8",
   "metadata": {},
   "outputs": [
    {
     "data": {
      "text/plain": [
       "array([1, 4])"
      ]
     },
     "execution_count": 142,
     "metadata": {},
     "output_type": "execute_result"
    }
   ],
   "source": [
    ">>> data * data\n",
    "np.array([1, 4])\n"
   ]
  },
  {
   "cell_type": "code",
   "execution_count": 143,
   "id": "ff393f79",
   "metadata": {},
   "outputs": [
    {
     "data": {
      "text/plain": [
       "array([1., 1.])"
      ]
     },
     "execution_count": 143,
     "metadata": {},
     "output_type": "execute_result"
    }
   ],
   "source": [
    ">>> data / data\n",
    "np.array([1., 1.])"
   ]
  },
  {
   "cell_type": "code",
   "execution_count": 144,
   "id": "7891f0f4",
   "metadata": {},
   "outputs": [
    {
     "data": {
      "text/plain": [
       "10"
      ]
     },
     "execution_count": 144,
     "metadata": {},
     "output_type": "execute_result"
    }
   ],
   "source": [
    ">>> a = np.array([1, 2, 3, 4])\n",
    "\n",
    ">>> a.sum()\n"
   ]
  },
  {
   "cell_type": "code",
   "execution_count": 150,
   "id": "7c42b10c",
   "metadata": {},
   "outputs": [
    {
     "data": {
      "text/plain": [
       "array([[1, 1, 1],\n",
       "       [2, 2, 2]])"
      ]
     },
     "execution_count": 150,
     "metadata": {},
     "output_type": "execute_result"
    }
   ],
   "source": [
    ">>> b = np.array([[1, 1, 1], [2, 2, 2]])\n",
    "b"
   ]
  },
  {
   "cell_type": "code",
   "execution_count": 151,
   "id": "5328eb7b",
   "metadata": {},
   "outputs": [
    {
     "data": {
      "text/plain": [
       "array([3, 3, 3])"
      ]
     },
     "execution_count": 151,
     "metadata": {},
     "output_type": "execute_result"
    }
   ],
   "source": [
    ">>> b.sum(axis=0)"
   ]
  },
  {
   "cell_type": "code",
   "execution_count": 152,
   "id": "02693b87",
   "metadata": {},
   "outputs": [
    {
     "data": {
      "text/plain": [
       "array([3, 6])"
      ]
     },
     "execution_count": 152,
     "metadata": {},
     "output_type": "execute_result"
    }
   ],
   "source": [
    ">>> b.sum(axis=1)\n",
    "\n"
   ]
  },
  {
   "cell_type": "markdown",
   "id": "f55b4cac",
   "metadata": {},
   "source": [
    ">>> data = np.array([1.0, 2.0])\n",
    ">>> data * 1.6\n",
    "np.array([1.6, 3.2])"
   ]
  },
  {
   "cell_type": "raw",
   "id": "c0eb66bb",
   "metadata": {},
   "source": [
    "That concept is called broadcasting. Broadcasting is a mechanism that allows NumPy to perform operations on arrays of different shapes. The dimensions of your array must be compatible, for example, when the dimensions of both arrays are equal or when one of them is 1. If the dimensions are not compatible, you will get a ValueError.\n"
   ]
  },
  {
   "cell_type": "code",
   "execution_count": 156,
   "id": "8c67c4dd",
   "metadata": {},
   "outputs": [
    {
     "data": {
      "text/plain": [
       "2.0"
      ]
     },
     "execution_count": 156,
     "metadata": {},
     "output_type": "execute_result"
    }
   ],
   "source": [
    ">>> data.max()\n"
   ]
  },
  {
   "cell_type": "code",
   "execution_count": 157,
   "id": "2663ef45",
   "metadata": {},
   "outputs": [
    {
     "data": {
      "text/plain": [
       "1.0"
      ]
     },
     "execution_count": 157,
     "metadata": {},
     "output_type": "execute_result"
    }
   ],
   "source": [
    "\n",
    ">>> data.min()\n",
    "\n",
    "\n"
   ]
  },
  {
   "cell_type": "code",
   "execution_count": 158,
   "id": "36d6b516",
   "metadata": {},
   "outputs": [
    {
     "data": {
      "text/plain": [
       "3.0"
      ]
     },
     "execution_count": 158,
     "metadata": {},
     "output_type": "execute_result"
    }
   ],
   "source": [
    ">>> data.sum()"
   ]
  },
  {
   "cell_type": "code",
   "execution_count": 159,
   "id": "d97bb04c",
   "metadata": {},
   "outputs": [
    {
     "data": {
      "text/plain": [
       "array([[0.45053314, 0.17296777, 0.34376245, 0.5510652 ],\n",
       "       [0.54627315, 0.05093587, 0.40067661, 0.55645993],\n",
       "       [0.12697628, 0.82485143, 0.26590556, 0.56917101]])"
      ]
     },
     "execution_count": 159,
     "metadata": {},
     "output_type": "execute_result"
    }
   ],
   "source": [
    ">>> a = np.array([[0.45053314, 0.17296777, 0.34376245, 0.5510652],\n",
    "...               [0.54627315, 0.05093587, 0.40067661, 0.55645993],\n",
    "...               [0.12697628, 0.82485143, 0.26590556, 0.56917101]])\n",
    "a"
   ]
  },
  {
   "cell_type": "code",
   "execution_count": 160,
   "id": "17729eb9",
   "metadata": {},
   "outputs": [
    {
     "data": {
      "text/plain": [
       "4.8595784"
      ]
     },
     "execution_count": 160,
     "metadata": {},
     "output_type": "execute_result"
    }
   ],
   "source": [
    ">>> a.sum()"
   ]
  },
  {
   "cell_type": "code",
   "execution_count": 161,
   "id": "af375e54",
   "metadata": {},
   "outputs": [
    {
     "data": {
      "text/plain": [
       "0.05093587"
      ]
     },
     "execution_count": 161,
     "metadata": {},
     "output_type": "execute_result"
    }
   ],
   "source": [
    ">>> a.min()"
   ]
  },
  {
   "cell_type": "code",
   "execution_count": 162,
   "id": "8b6f4cc6",
   "metadata": {},
   "outputs": [
    {
     "data": {
      "text/plain": [
       "array([0.12697628, 0.05093587, 0.26590556, 0.5510652 ])"
      ]
     },
     "execution_count": 162,
     "metadata": {},
     "output_type": "execute_result"
    }
   ],
   "source": [
    ">>> a.min(axis=0)"
   ]
  },
  {
   "cell_type": "code",
   "execution_count": 163,
   "id": "e815f0d3",
   "metadata": {},
   "outputs": [
    {
     "data": {
      "text/plain": [
       "array([[1, 2],\n",
       "       [3, 4],\n",
       "       [5, 6]])"
      ]
     },
     "execution_count": 163,
     "metadata": {},
     "output_type": "execute_result"
    }
   ],
   "source": [
    ">>> data = np.array([[1, 2], [3, 4], [5, 6]])\n",
    ">>> data"
   ]
  },
  {
   "cell_type": "code",
   "execution_count": 164,
   "id": "945ca8ca",
   "metadata": {},
   "outputs": [
    {
     "data": {
      "text/plain": [
       "2"
      ]
     },
     "execution_count": 164,
     "metadata": {},
     "output_type": "execute_result"
    }
   ],
   "source": [
    ">>> data[0, 1]"
   ]
  },
  {
   "cell_type": "code",
   "execution_count": 165,
   "id": "72c2c154",
   "metadata": {},
   "outputs": [
    {
     "data": {
      "text/plain": [
       "array([[3, 4],\n",
       "       [5, 6]])"
      ]
     },
     "execution_count": 165,
     "metadata": {},
     "output_type": "execute_result"
    }
   ],
   "source": [
    ">>> data[1:3]"
   ]
  },
  {
   "cell_type": "code",
   "execution_count": 166,
   "id": "04d6dab3",
   "metadata": {},
   "outputs": [
    {
     "data": {
      "text/plain": [
       "array([1, 3])"
      ]
     },
     "execution_count": 166,
     "metadata": {},
     "output_type": "execute_result"
    }
   ],
   "source": [
    ">>> data[0:2, 0]"
   ]
  },
  {
   "cell_type": "code",
   "execution_count": 167,
   "id": "260f0bb3",
   "metadata": {},
   "outputs": [
    {
     "data": {
      "text/plain": [
       "6"
      ]
     },
     "execution_count": 167,
     "metadata": {},
     "output_type": "execute_result"
    }
   ],
   "source": [
    ">>> data.max()\n",
    "\n"
   ]
  },
  {
   "cell_type": "code",
   "execution_count": 168,
   "id": "b4854a29",
   "metadata": {},
   "outputs": [
    {
     "data": {
      "text/plain": [
       "1"
      ]
     },
     "execution_count": 168,
     "metadata": {},
     "output_type": "execute_result"
    }
   ],
   "source": [
    ">>> data.min()\n",
    "\n"
   ]
  },
  {
   "cell_type": "code",
   "execution_count": 169,
   "id": "5cd6c597",
   "metadata": {},
   "outputs": [
    {
     "data": {
      "text/plain": [
       "21"
      ]
     },
     "execution_count": 169,
     "metadata": {},
     "output_type": "execute_result"
    }
   ],
   "source": [
    "\n",
    ">>> data.sum()"
   ]
  },
  {
   "cell_type": "code",
   "execution_count": 170,
   "id": "d93c1936",
   "metadata": {},
   "outputs": [
    {
     "data": {
      "text/plain": [
       "array([5, 6])"
      ]
     },
     "execution_count": 170,
     "metadata": {},
     "output_type": "execute_result"
    }
   ],
   "source": [
    ">>> data.max(axis=0)"
   ]
  },
  {
   "cell_type": "code",
   "execution_count": 171,
   "id": "fac90e01",
   "metadata": {},
   "outputs": [
    {
     "data": {
      "text/plain": [
       "array([2, 4, 6])"
      ]
     },
     "execution_count": 171,
     "metadata": {},
     "output_type": "execute_result"
    }
   ],
   "source": [
    ">>> data.max(axis=1)"
   ]
  },
  {
   "cell_type": "code",
   "execution_count": 174,
   "id": "6de0d587",
   "metadata": {},
   "outputs": [
    {
     "data": {
      "text/plain": [
       "array([[2, 3],\n",
       "       [4, 5]])"
      ]
     },
     "execution_count": 174,
     "metadata": {},
     "output_type": "execute_result"
    }
   ],
   "source": [
    ">>> data = np.array([[1, 2], [3, 4]])\n",
    ">>> ones = np.array([[1, 1], [1, 1]])\n",
    ">>> data + ones\n"
   ]
  },
  {
   "cell_type": "code",
   "execution_count": 175,
   "id": "42b16ca3",
   "metadata": {},
   "outputs": [
    {
     "data": {
      "text/plain": [
       "array([[2, 3],\n",
       "       [4, 5],\n",
       "       [6, 7]])"
      ]
     },
     "execution_count": 175,
     "metadata": {},
     "output_type": "execute_result"
    }
   ],
   "source": [
    ">>> data = np.array([[1, 2], [3, 4], [5, 6]])\n",
    ">>> ones_row = np.array([[1, 1]])\n",
    ">>> data + ones_row"
   ]
  },
  {
   "cell_type": "code",
   "execution_count": 176,
   "id": "0290240e",
   "metadata": {},
   "outputs": [
    {
     "data": {
      "text/plain": [
       "array([[[1., 1.],\n",
       "        [1., 1.],\n",
       "        [1., 1.]],\n",
       "\n",
       "       [[1., 1.],\n",
       "        [1., 1.],\n",
       "        [1., 1.]],\n",
       "\n",
       "       [[1., 1.],\n",
       "        [1., 1.],\n",
       "        [1., 1.]],\n",
       "\n",
       "       [[1., 1.],\n",
       "        [1., 1.],\n",
       "        [1., 1.]]])"
      ]
     },
     "execution_count": 176,
     "metadata": {},
     "output_type": "execute_result"
    }
   ],
   "source": [
    ">>> np.ones((4, 3, 2))"
   ]
  },
  {
   "cell_type": "code",
   "execution_count": 178,
   "id": "a2e5ce77",
   "metadata": {},
   "outputs": [
    {
     "data": {
      "text/plain": [
       "array([1., 1., 1.])"
      ]
     },
     "execution_count": 178,
     "metadata": {},
     "output_type": "execute_result"
    }
   ],
   "source": [
    ">>> np.ones(3)\n"
   ]
  },
  {
   "cell_type": "code",
   "execution_count": 179,
   "id": "ee8d234a",
   "metadata": {},
   "outputs": [
    {
     "data": {
      "text/plain": [
       "array([0., 0., 0.])"
      ]
     },
     "execution_count": 179,
     "metadata": {},
     "output_type": "execute_result"
    }
   ],
   "source": [
    ">>> np.zeros(3)\n",
    "\n"
   ]
  },
  {
   "cell_type": "code",
   "execution_count": 182,
   "id": "88b76ed3",
   "metadata": {},
   "outputs": [
    {
     "data": {
      "text/plain": [
       "Generator(PCG64) at 0x20316DFE820"
      ]
     },
     "execution_count": 182,
     "metadata": {},
     "output_type": "execute_result"
    }
   ],
   "source": [
    ">>> rng = np.random.default_rng()  # the simplest way to generate random numbers\n",
    "rng"
   ]
  },
  {
   "cell_type": "code",
   "execution_count": 183,
   "id": "724ab8b1",
   "metadata": {},
   "outputs": [
    {
     "data": {
      "text/plain": [
       "array([0.04322794, 0.53599347, 0.24510807])"
      ]
     },
     "execution_count": 183,
     "metadata": {},
     "output_type": "execute_result"
    }
   ],
   "source": [
    ">>> rng.random(3) "
   ]
  },
  {
   "cell_type": "code",
   "execution_count": 184,
   "id": "dfaf573f",
   "metadata": {},
   "outputs": [
    {
     "data": {
      "text/plain": [
       "array([[0.70850402, 0.66956157],\n",
       "       [0.56352301, 0.9143825 ],\n",
       "       [0.72833708, 0.15216142]])"
      ]
     },
     "execution_count": 184,
     "metadata": {},
     "output_type": "execute_result"
    }
   ],
   "source": [
    ">>> rng.random((3, 2)) "
   ]
  },
  {
   "cell_type": "code",
   "execution_count": 185,
   "id": "6cd7b71d",
   "metadata": {},
   "outputs": [
    {
     "data": {
      "text/plain": [
       "array([[2, 4, 4, 1],\n",
       "       [0, 3, 4, 4]], dtype=int64)"
      ]
     },
     "execution_count": 185,
     "metadata": {},
     "output_type": "execute_result"
    }
   ],
   "source": [
    ">>> rng.integers(5, size=(2, 4)) "
   ]
  },
  {
   "cell_type": "code",
   "execution_count": 187,
   "id": "544f7834",
   "metadata": {},
   "outputs": [
    {
     "name": "stdout",
     "output_type": "stream",
     "text": [
      "[11 12 13 14 15 16 17 18 19 20]\n"
     ]
    }
   ],
   "source": [
    ">>> a = np.array([11, 11, 12, 13, 14, 15, 16, 17, 12, 13, 11, 14, 18, 19, 20])\n",
    "\n",
    ">>> unique_values = np.unique(a)\n",
    ">>> print(unique_values)"
   ]
  },
  {
   "cell_type": "code",
   "execution_count": 188,
   "id": "2c0043f8",
   "metadata": {},
   "outputs": [
    {
     "name": "stdout",
     "output_type": "stream",
     "text": [
      "[ 0  2  3  4  5  6  7 12 13 14]\n"
     ]
    }
   ],
   "source": [
    ">>> unique_values, indices_list = np.unique(a, return_index=True)\n",
    ">>> print(indices_list)"
   ]
  },
  {
   "cell_type": "code",
   "execution_count": 190,
   "id": "33452324",
   "metadata": {},
   "outputs": [
    {
     "data": {
      "text/plain": [
       "(array([11, 12, 13, 14, 15, 16, 17, 18, 19, 20]),\n",
       " array([ 0,  2,  3,  4,  5,  6,  7, 12, 13, 14], dtype=int64))"
      ]
     },
     "execution_count": 190,
     "metadata": {},
     "output_type": "execute_result"
    }
   ],
   "source": [
    "indices_list = np.unique(a, return_index=True)\n",
    "indices_list"
   ]
  },
  {
   "cell_type": "code",
   "execution_count": 195,
   "id": "7aa05d46",
   "metadata": {},
   "outputs": [
    {
     "name": "stdout",
     "output_type": "stream",
     "text": [
      "[3 2 2 2 1 1 1 1 1 1]\n"
     ]
    }
   ],
   "source": [
    ">>> unique_values, occurrence_count = np.unique(a, return_counts=True)\n",
    ">>> print(occurrence_count)"
   ]
  },
  {
   "cell_type": "code",
   "execution_count": 197,
   "id": "7a0cc7ea",
   "metadata": {},
   "outputs": [
    {
     "data": {
      "text/plain": [
       "array([[ 1,  2,  3,  4],\n",
       "       [ 5,  6,  7,  8],\n",
       "       [ 9, 10, 11, 12],\n",
       "       [ 1,  2,  3,  4]])"
      ]
     },
     "execution_count": 197,
     "metadata": {},
     "output_type": "execute_result"
    }
   ],
   "source": [
    ">>> a_2d = np.array([[1, 2, 3, 4], [5, 6, 7, 8], [9, 10, 11, 12], [1, 2, 3, 4]])\n",
    "a_2d"
   ]
  },
  {
   "cell_type": "code",
   "execution_count": 198,
   "id": "00ea1a77",
   "metadata": {},
   "outputs": [
    {
     "name": "stdout",
     "output_type": "stream",
     "text": [
      "[ 1  2  3  4  5  6  7  8  9 10 11 12]\n"
     ]
    }
   ],
   "source": [
    ">>> unique_values = np.unique(a_2d)\n",
    ">>> print(unique_values)"
   ]
  },
  {
   "cell_type": "code",
   "execution_count": 199,
   "id": "357b987d",
   "metadata": {},
   "outputs": [
    {
     "name": "stdout",
     "output_type": "stream",
     "text": [
      "[[ 1  2  3  4]\n",
      " [ 5  6  7  8]\n",
      " [ 9 10 11 12]]\n"
     ]
    }
   ],
   "source": [
    ">>> unique_rows = np.unique(a_2d, axis=0)\n",
    ">>> print(unique_rows)\n"
   ]
  },
  {
   "cell_type": "code",
   "execution_count": 202,
   "id": "c03895b0",
   "metadata": {},
   "outputs": [
    {
     "name": "stdout",
     "output_type": "stream",
     "text": [
      "[[ 1  2  3  4]\n",
      " [ 5  6  7  8]\n",
      " [ 9 10 11 12]]\n"
     ]
    }
   ],
   "source": [
    ">>> unique_rows, indices, occurrence_count = np.unique(\n",
    "...      a_2d, axis=0, return_counts=True, return_index=True)\n",
    ">>> print(unique_rows)"
   ]
  },
  {
   "cell_type": "code",
   "execution_count": 203,
   "id": "52f14472",
   "metadata": {},
   "outputs": [
    {
     "name": "stdout",
     "output_type": "stream",
     "text": [
      "[0 1 2]\n"
     ]
    }
   ],
   "source": [
    ">>> print(indices)"
   ]
  },
  {
   "cell_type": "code",
   "execution_count": 204,
   "id": "60792059",
   "metadata": {},
   "outputs": [
    {
     "name": "stdout",
     "output_type": "stream",
     "text": [
      "[2 1 1]\n"
     ]
    }
   ],
   "source": [
    ">>> print(occurrence_count)\n"
   ]
  },
  {
   "cell_type": "code",
   "execution_count": 205,
   "id": "a3665f16",
   "metadata": {},
   "outputs": [
    {
     "data": {
      "text/plain": [
       "array([[0, 1, 2],\n",
       "       [3, 4, 5]])"
      ]
     },
     "execution_count": 205,
     "metadata": {},
     "output_type": "execute_result"
    }
   ],
   "source": [
    ">>> arr = np.arange(6).reshape((2, 3))\n",
    ">>> arr"
   ]
  },
  {
   "cell_type": "code",
   "execution_count": 206,
   "id": "30a129a0",
   "metadata": {},
   "outputs": [
    {
     "data": {
      "text/plain": [
       "array([[0, 3],\n",
       "       [1, 4],\n",
       "       [2, 5]])"
      ]
     },
     "execution_count": 206,
     "metadata": {},
     "output_type": "execute_result"
    }
   ],
   "source": [
    ">>> arr.transpose()"
   ]
  },
  {
   "cell_type": "code",
   "execution_count": 207,
   "id": "8112c27d",
   "metadata": {},
   "outputs": [
    {
     "data": {
      "text/plain": [
       "array([[0, 3],\n",
       "       [1, 4],\n",
       "       [2, 5]])"
      ]
     },
     "execution_count": 207,
     "metadata": {},
     "output_type": "execute_result"
    }
   ],
   "source": [
    ">>> arr.T"
   ]
  },
  {
   "cell_type": "code",
   "execution_count": 213,
   "id": "601de74c",
   "metadata": {},
   "outputs": [
    {
     "name": "stdout",
     "output_type": "stream",
     "text": [
      "Reversed Array:  [[5 4 3]\n",
      " [2 1 0]]\n"
     ]
    }
   ],
   "source": [
    ">>> reversed_arr = np.flip(arr)\n",
    "print('Reversed Array: ', reversed_arr)\n",
    "    "
   ]
  },
  {
   "cell_type": "code",
   "execution_count": 217,
   "id": "9a407c2e",
   "metadata": {},
   "outputs": [],
   "source": [
    "\n",
    "\n",
    "\n",
    "\n",
    "\n",
    ">>> arr = np.array([1, 2, 3, 4, 5, 6, 7, 8])\n",
    "\n",
    ">>> reversed_arr = np.flip(arr)\n"
   ]
  },
  {
   "cell_type": "code",
   "execution_count": 218,
   "id": "1860b317",
   "metadata": {},
   "outputs": [
    {
     "ename": "SyntaxError",
     "evalue": "invalid syntax (Temp/ipykernel_14072/2639975670.py, line 2)",
     "output_type": "error",
     "traceback": [
      "\u001b[1;36m  File \u001b[1;32m\"C:\\Users\\AKASH\\AppData\\Local\\Temp/ipykernel_14072/2639975670.py\"\u001b[1;36m, line \u001b[1;32m2\u001b[0m\n\u001b[1;33m    Reversed Array:  [8 7 6 5 4 3 2 1]\u001b[0m\n\u001b[1;37m             ^\u001b[0m\n\u001b[1;31mSyntaxError\u001b[0m\u001b[1;31m:\u001b[0m invalid syntax\n"
     ]
    }
   ],
   "source": [
    ">>> print('Reversed Array: ', reversed_arr)\n",
    "Reversed Array:  [8 7 6 5 4 3 2 1]"
   ]
  },
  {
   "cell_type": "code",
   "execution_count": 219,
   "id": "2c4306d6",
   "metadata": {},
   "outputs": [
    {
     "name": "stdout",
     "output_type": "stream",
     "text": [
      "Reversed Array:  [8 7 6 5 4 3 2 1]\n"
     ]
    }
   ],
   "source": [
    "import numpy as np\n",
    "\n",
    "arr = np.array([1, 2, 3, 4, 5, 6, 7, 8])\n",
    "reversed_arr = arr[::-1]  # Reverses the array\n",
    "print('Reversed Array: ', reversed_arr)\n"
   ]
  },
  {
   "cell_type": "code",
   "execution_count": 221,
   "id": "229abb4d",
   "metadata": {},
   "outputs": [
    {
     "data": {
      "text/plain": [
       "array([8, 7, 6, 5, 4, 3, 2, 1])"
      ]
     },
     "execution_count": 221,
     "metadata": {},
     "output_type": "execute_result"
    }
   ],
   "source": [
    ">>> reversed_arr = np.flip(arr)\n",
    ">>> reversed_arr"
   ]
  },
  {
   "cell_type": "code",
   "execution_count": 222,
   "id": "d36ef889",
   "metadata": {},
   "outputs": [],
   "source": [
    ">>> reversed_arr = np.flip(arr)"
   ]
  },
  {
   "cell_type": "code",
   "execution_count": 224,
   "id": "978f2731",
   "metadata": {},
   "outputs": [
    {
     "name": "stdout",
     "output_type": "stream",
     "text": [
      "Reversed Array:  [8 7 6 5 4 3 2 1]\n"
     ]
    }
   ],
   "source": [
    ">>> print('Reversed Array: ', reversed_arr)\n"
   ]
  },
  {
   "cell_type": "code",
   "execution_count": 225,
   "id": "5d2c68b5",
   "metadata": {},
   "outputs": [
    {
     "data": {
      "text/plain": [
       "array([[ 1,  2,  3,  4],\n",
       "       [ 5,  6,  7,  8],\n",
       "       [ 9, 10, 11, 12]])"
      ]
     },
     "execution_count": 225,
     "metadata": {},
     "output_type": "execute_result"
    }
   ],
   "source": [
    ">>> arr_2d = np.array([[1, 2, 3, 4], [5, 6, 7, 8], [9, 10, 11, 12]])\n",
    ">>> arr_2d"
   ]
  },
  {
   "cell_type": "code",
   "execution_count": 226,
   "id": "55945895",
   "metadata": {},
   "outputs": [
    {
     "name": "stdout",
     "output_type": "stream",
     "text": [
      "[[12 11 10  9]\n",
      " [ 8  7  6  5]\n",
      " [ 4  3  2  1]]\n"
     ]
    }
   ],
   "source": [
    ">>> reversed_arr = np.flip(arr_2d)\n",
    ">>> print(reversed_arr)\n"
   ]
  },
  {
   "cell_type": "code",
   "execution_count": 227,
   "id": "cab11eb8",
   "metadata": {},
   "outputs": [
    {
     "name": "stdout",
     "output_type": "stream",
     "text": [
      "[[ 9 10 11 12]\n",
      " [ 5  6  7  8]\n",
      " [ 1  2  3  4]]\n"
     ]
    }
   ],
   "source": [
    ">>> reversed_arr_rows = np.flip(arr_2d, axis=0)\n",
    ">>> print(reversed_arr_rows)"
   ]
  },
  {
   "cell_type": "code",
   "execution_count": 235,
   "id": "a9c02c07",
   "metadata": {},
   "outputs": [
    {
     "name": "stdout",
     "output_type": "stream",
     "text": [
      "[[ 4  3  2  1]\n",
      " [ 8  7  6  5]\n",
      " [12 11 10  9]]\n"
     ]
    }
   ],
   "source": [
    ">>> reversed_arr_columns = np.flip(arr_2d, axis=1)\n",
    ">>> print(reversed_arr_columns)"
   ]
  },
  {
   "cell_type": "code",
   "execution_count": 232,
   "id": "4c98044c",
   "metadata": {},
   "outputs": [
    {
     "name": "stdout",
     "output_type": "stream",
     "text": [
      "[[ 4  3  2  1]\n",
      " [ 8  7  6  5]\n",
      " [12 11 10  9]]\n"
     ]
    }
   ],
   "source": [
    ">>> reversed_arr_rows = np.flip(arr_2d, axis=1)\n",
    ">>> print(reversed_arr_rows)"
   ]
  },
  {
   "cell_type": "code",
   "execution_count": 233,
   "id": "98cb833f",
   "metadata": {},
   "outputs": [
    {
     "ename": "AxisError",
     "evalue": "axis 2 is out of bounds for array of dimension 2",
     "output_type": "error",
     "traceback": [
      "\u001b[1;31m---------------------------------------------------------------------------\u001b[0m",
      "\u001b[1;31mAxisError\u001b[0m                                 Traceback (most recent call last)",
      "\u001b[1;32m~\\AppData\\Local\\Temp/ipykernel_14072/1725863487.py\u001b[0m in \u001b[0;36m<module>\u001b[1;34m\u001b[0m\n\u001b[1;32m----> 1\u001b[1;33m \u001b[0mreversed_arr_rows\u001b[0m \u001b[1;33m=\u001b[0m \u001b[0mnp\u001b[0m\u001b[1;33m.\u001b[0m\u001b[0mflip\u001b[0m\u001b[1;33m(\u001b[0m\u001b[0marr_2d\u001b[0m\u001b[1;33m,\u001b[0m \u001b[0maxis\u001b[0m\u001b[1;33m=\u001b[0m\u001b[1;36m2\u001b[0m\u001b[1;33m)\u001b[0m\u001b[1;33m\u001b[0m\u001b[1;33m\u001b[0m\u001b[0m\n\u001b[0m\u001b[0;32m      2\u001b[0m \u001b[0mprint\u001b[0m\u001b[1;33m(\u001b[0m\u001b[0mreversed_arr_rows\u001b[0m\u001b[1;33m)\u001b[0m\u001b[1;33m\u001b[0m\u001b[1;33m\u001b[0m\u001b[0m\n",
      "\u001b[1;32m~\\anaconda3\\lib\\site-packages\\numpy\\lib\\function_base.py\u001b[0m in \u001b[0;36mflip\u001b[1;34m(m, axis)\u001b[0m\n\u001b[0;32m    338\u001b[0m         \u001b[0mindexer\u001b[0m \u001b[1;33m=\u001b[0m \u001b[1;33m(\u001b[0m\u001b[0mnp\u001b[0m\u001b[1;33m.\u001b[0m\u001b[0ms_\u001b[0m\u001b[1;33m[\u001b[0m\u001b[1;33m:\u001b[0m\u001b[1;33m:\u001b[0m\u001b[1;33m-\u001b[0m\u001b[1;36m1\u001b[0m\u001b[1;33m]\u001b[0m\u001b[1;33m,\u001b[0m\u001b[1;33m)\u001b[0m \u001b[1;33m*\u001b[0m \u001b[0mm\u001b[0m\u001b[1;33m.\u001b[0m\u001b[0mndim\u001b[0m\u001b[1;33m\u001b[0m\u001b[1;33m\u001b[0m\u001b[0m\n\u001b[0;32m    339\u001b[0m     \u001b[1;32melse\u001b[0m\u001b[1;33m:\u001b[0m\u001b[1;33m\u001b[0m\u001b[1;33m\u001b[0m\u001b[0m\n\u001b[1;32m--> 340\u001b[1;33m         \u001b[0maxis\u001b[0m \u001b[1;33m=\u001b[0m \u001b[0m_nx\u001b[0m\u001b[1;33m.\u001b[0m\u001b[0mnormalize_axis_tuple\u001b[0m\u001b[1;33m(\u001b[0m\u001b[0maxis\u001b[0m\u001b[1;33m,\u001b[0m \u001b[0mm\u001b[0m\u001b[1;33m.\u001b[0m\u001b[0mndim\u001b[0m\u001b[1;33m)\u001b[0m\u001b[1;33m\u001b[0m\u001b[1;33m\u001b[0m\u001b[0m\n\u001b[0m\u001b[0;32m    341\u001b[0m         \u001b[0mindexer\u001b[0m \u001b[1;33m=\u001b[0m \u001b[1;33m[\u001b[0m\u001b[0mnp\u001b[0m\u001b[1;33m.\u001b[0m\u001b[0ms_\u001b[0m\u001b[1;33m[\u001b[0m\u001b[1;33m:\u001b[0m\u001b[1;33m]\u001b[0m\u001b[1;33m]\u001b[0m \u001b[1;33m*\u001b[0m \u001b[0mm\u001b[0m\u001b[1;33m.\u001b[0m\u001b[0mndim\u001b[0m\u001b[1;33m\u001b[0m\u001b[1;33m\u001b[0m\u001b[0m\n\u001b[0;32m    342\u001b[0m         \u001b[1;32mfor\u001b[0m \u001b[0max\u001b[0m \u001b[1;32min\u001b[0m \u001b[0maxis\u001b[0m\u001b[1;33m:\u001b[0m\u001b[1;33m\u001b[0m\u001b[1;33m\u001b[0m\u001b[0m\n",
      "\u001b[1;32m~\\anaconda3\\lib\\site-packages\\numpy\\core\\numeric.py\u001b[0m in \u001b[0;36mnormalize_axis_tuple\u001b[1;34m(axis, ndim, argname, allow_duplicate)\u001b[0m\n\u001b[0;32m   1378\u001b[0m             \u001b[1;32mpass\u001b[0m\u001b[1;33m\u001b[0m\u001b[1;33m\u001b[0m\u001b[0m\n\u001b[0;32m   1379\u001b[0m     \u001b[1;31m# Going via an iterator directly is slower than via list comprehension.\u001b[0m\u001b[1;33m\u001b[0m\u001b[1;33m\u001b[0m\u001b[0m\n\u001b[1;32m-> 1380\u001b[1;33m     \u001b[0maxis\u001b[0m \u001b[1;33m=\u001b[0m \u001b[0mtuple\u001b[0m\u001b[1;33m(\u001b[0m\u001b[1;33m[\u001b[0m\u001b[0mnormalize_axis_index\u001b[0m\u001b[1;33m(\u001b[0m\u001b[0max\u001b[0m\u001b[1;33m,\u001b[0m \u001b[0mndim\u001b[0m\u001b[1;33m,\u001b[0m \u001b[0margname\u001b[0m\u001b[1;33m)\u001b[0m \u001b[1;32mfor\u001b[0m \u001b[0max\u001b[0m \u001b[1;32min\u001b[0m \u001b[0maxis\u001b[0m\u001b[1;33m]\u001b[0m\u001b[1;33m)\u001b[0m\u001b[1;33m\u001b[0m\u001b[1;33m\u001b[0m\u001b[0m\n\u001b[0m\u001b[0;32m   1381\u001b[0m     \u001b[1;32mif\u001b[0m \u001b[1;32mnot\u001b[0m \u001b[0mallow_duplicate\u001b[0m \u001b[1;32mand\u001b[0m \u001b[0mlen\u001b[0m\u001b[1;33m(\u001b[0m\u001b[0mset\u001b[0m\u001b[1;33m(\u001b[0m\u001b[0maxis\u001b[0m\u001b[1;33m)\u001b[0m\u001b[1;33m)\u001b[0m \u001b[1;33m!=\u001b[0m \u001b[0mlen\u001b[0m\u001b[1;33m(\u001b[0m\u001b[0maxis\u001b[0m\u001b[1;33m)\u001b[0m\u001b[1;33m:\u001b[0m\u001b[1;33m\u001b[0m\u001b[1;33m\u001b[0m\u001b[0m\n\u001b[0;32m   1382\u001b[0m         \u001b[1;32mif\u001b[0m \u001b[0margname\u001b[0m\u001b[1;33m:\u001b[0m\u001b[1;33m\u001b[0m\u001b[1;33m\u001b[0m\u001b[0m\n",
      "\u001b[1;32m~\\anaconda3\\lib\\site-packages\\numpy\\core\\numeric.py\u001b[0m in \u001b[0;36m<listcomp>\u001b[1;34m(.0)\u001b[0m\n\u001b[0;32m   1378\u001b[0m             \u001b[1;32mpass\u001b[0m\u001b[1;33m\u001b[0m\u001b[1;33m\u001b[0m\u001b[0m\n\u001b[0;32m   1379\u001b[0m     \u001b[1;31m# Going via an iterator directly is slower than via list comprehension.\u001b[0m\u001b[1;33m\u001b[0m\u001b[1;33m\u001b[0m\u001b[0m\n\u001b[1;32m-> 1380\u001b[1;33m     \u001b[0maxis\u001b[0m \u001b[1;33m=\u001b[0m \u001b[0mtuple\u001b[0m\u001b[1;33m(\u001b[0m\u001b[1;33m[\u001b[0m\u001b[0mnormalize_axis_index\u001b[0m\u001b[1;33m(\u001b[0m\u001b[0max\u001b[0m\u001b[1;33m,\u001b[0m \u001b[0mndim\u001b[0m\u001b[1;33m,\u001b[0m \u001b[0margname\u001b[0m\u001b[1;33m)\u001b[0m \u001b[1;32mfor\u001b[0m \u001b[0max\u001b[0m \u001b[1;32min\u001b[0m \u001b[0maxis\u001b[0m\u001b[1;33m]\u001b[0m\u001b[1;33m)\u001b[0m\u001b[1;33m\u001b[0m\u001b[1;33m\u001b[0m\u001b[0m\n\u001b[0m\u001b[0;32m   1381\u001b[0m     \u001b[1;32mif\u001b[0m \u001b[1;32mnot\u001b[0m \u001b[0mallow_duplicate\u001b[0m \u001b[1;32mand\u001b[0m \u001b[0mlen\u001b[0m\u001b[1;33m(\u001b[0m\u001b[0mset\u001b[0m\u001b[1;33m(\u001b[0m\u001b[0maxis\u001b[0m\u001b[1;33m)\u001b[0m\u001b[1;33m)\u001b[0m \u001b[1;33m!=\u001b[0m \u001b[0mlen\u001b[0m\u001b[1;33m(\u001b[0m\u001b[0maxis\u001b[0m\u001b[1;33m)\u001b[0m\u001b[1;33m:\u001b[0m\u001b[1;33m\u001b[0m\u001b[1;33m\u001b[0m\u001b[0m\n\u001b[0;32m   1382\u001b[0m         \u001b[1;32mif\u001b[0m \u001b[0margname\u001b[0m\u001b[1;33m:\u001b[0m\u001b[1;33m\u001b[0m\u001b[1;33m\u001b[0m\u001b[0m\n",
      "\u001b[1;31mAxisError\u001b[0m: axis 2 is out of bounds for array of dimension 2"
     ]
    }
   ],
   "source": [
    ">>> reversed_arr_rows = np.flip(arr_2d, axis=2)\n",
    ">>> print(reversed_arr_rows)"
   ]
  },
  {
   "cell_type": "code",
   "execution_count": 231,
   "id": "84559f4a",
   "metadata": {},
   "outputs": [
    {
     "name": "stdout",
     "output_type": "stream",
     "text": [
      "[[ 4  3  2  1]\n",
      " [ 8  7  6  5]\n",
      " [12 11 10  9]]\n"
     ]
    }
   ],
   "source": [
    ">>> reversed_arr_columns = np.flip(arr_2d, axis=1)\n",
    ">>> print(reversed_arr_columns)"
   ]
  },
  {
   "cell_type": "code",
   "execution_count": 236,
   "id": "a8c3dc1f",
   "metadata": {},
   "outputs": [
    {
     "name": "stdout",
     "output_type": "stream",
     "text": [
      "[[ 1  2  3  4]\n",
      " [ 8  7  6  5]\n",
      " [ 9 10 11 12]]\n"
     ]
    }
   ],
   "source": [
    ">>> arr_2d[1] = np.flip(arr_2d[1])\n",
    ">>> print(arr_2d)"
   ]
  },
  {
   "cell_type": "code",
   "execution_count": 237,
   "id": "ae0d050b",
   "metadata": {},
   "outputs": [
    {
     "name": "stdout",
     "output_type": "stream",
     "text": [
      "[[ 1 10  3  4]\n",
      " [ 8  7  6  5]\n",
      " [ 9  2 11 12]]\n"
     ]
    }
   ],
   "source": [
    ">>> arr_2d[:,1] = np.flip(arr_2d[:,1])\n",
    ">>> print(arr_2d)"
   ]
  },
  {
   "cell_type": "code",
   "execution_count": 238,
   "id": "212cd4ae",
   "metadata": {},
   "outputs": [
    {
     "name": "stdout",
     "output_type": "stream",
     "text": [
      "[[ 1 10 11  4]\n",
      " [ 8  7  6  5]\n",
      " [ 9  2  3 12]]\n"
     ]
    }
   ],
   "source": [
    ">>> arr_2d[:,2] = np.flip(arr_2d[:,2])\n",
    ">>> print(arr_2d)"
   ]
  },
  {
   "cell_type": "code",
   "execution_count": 239,
   "id": "51aa51a2",
   "metadata": {},
   "outputs": [
    {
     "name": "stdout",
     "output_type": "stream",
     "text": [
      "[[12  3  2  9]\n",
      " [ 5  6  7  8]\n",
      " [ 4 11 10  1]]\n"
     ]
    }
   ],
   "source": [
    ">>> arr_2d[:,] = np.flip(arr_2d[:,])\n",
    ">>> print(arr_2d)"
   ]
  },
  {
   "cell_type": "code",
   "execution_count": 240,
   "id": "1ba48984",
   "metadata": {},
   "outputs": [
    {
     "data": {
      "text/plain": [
       "array([[ 4, 11, 10,  1],\n",
       "       [ 5,  6,  7,  8],\n",
       "       [12,  3,  2,  9]])"
      ]
     },
     "execution_count": 240,
     "metadata": {},
     "output_type": "execute_result"
    }
   ],
   "source": [
    "np.flipud(arr_2d)\n"
   ]
  },
  {
   "cell_type": "code",
   "execution_count": 241,
   "id": "f7cbdb29",
   "metadata": {},
   "outputs": [
    {
     "data": {
      "text/plain": [
       "array([[ 9,  2,  3, 12],\n",
       "       [ 8,  7,  6,  5],\n",
       "       [ 1, 10, 11,  4]])"
      ]
     },
     "execution_count": 241,
     "metadata": {},
     "output_type": "execute_result"
    }
   ],
   "source": [
    "np.fliplr(arr_2d)\n"
   ]
  },
  {
   "cell_type": "code",
   "execution_count": 242,
   "id": "614ecfdc",
   "metadata": {},
   "outputs": [
    {
     "data": {
      "text/plain": [
       "array([12,  3,  2,  9,  5,  6,  7,  8,  4, 11, 10,  1])"
      ]
     },
     "execution_count": 242,
     "metadata": {},
     "output_type": "execute_result"
    }
   ],
   "source": [
    ">>> arr_2d.flatten()"
   ]
  },
  {
   "cell_type": "code",
   "execution_count": 244,
   "id": "3c5f1911",
   "metadata": {},
   "outputs": [
    {
     "data": {
      "text/plain": [
       "array([ 1,  2,  3,  4,  5,  6,  7,  8,  9, 10, 11, 12])"
      ]
     },
     "execution_count": 244,
     "metadata": {},
     "output_type": "execute_result"
    }
   ],
   "source": [
    ">>> x = np.array([[1, 2, 3, 4], [5, 6, 7, 8], [9, 10, 11, 12]])\n",
    "\n",
    ">>> x.flatten()"
   ]
  },
  {
   "cell_type": "code",
   "execution_count": 245,
   "id": "8e1543f2",
   "metadata": {},
   "outputs": [
    {
     "name": "stdout",
     "output_type": "stream",
     "text": [
      "[[ 1  2  3  4]\n",
      " [ 5  6  7  8]\n",
      " [ 9 10 11 12]]\n"
     ]
    }
   ],
   "source": [
    ">>> a1 = x.flatten()\n",
    ">>> a1[0] = 99\n",
    ">>> print(x)  # Original array"
   ]
  },
  {
   "cell_type": "code",
   "execution_count": 246,
   "id": "c2cf97a1",
   "metadata": {},
   "outputs": [
    {
     "name": "stdout",
     "output_type": "stream",
     "text": [
      "[99  2  3  4  5  6  7  8  9 10 11 12]\n"
     ]
    }
   ],
   "source": [
    ">>> print(a1)"
   ]
  },
  {
   "cell_type": "raw",
   "id": "7bc92760",
   "metadata": {},
   "source": [
    "But when you use ravel, the changes you make to the new array will affect the parent array.\n"
   ]
  },
  {
   "cell_type": "code",
   "execution_count": 247,
   "id": "7015662e",
   "metadata": {},
   "outputs": [
    {
     "name": "stdout",
     "output_type": "stream",
     "text": [
      "[[98  2  3  4]\n",
      " [ 5  6  7  8]\n",
      " [ 9 10 11 12]]\n"
     ]
    }
   ],
   "source": [
    ">>> a2 = x.ravel()\n",
    ">>> a2[0] = 98\n",
    ">>> print(x)  # Original array"
   ]
  },
  {
   "cell_type": "code",
   "execution_count": 248,
   "id": "4c35348c",
   "metadata": {},
   "outputs": [
    {
     "name": "stdout",
     "output_type": "stream",
     "text": [
      "[98  2  3  4  5  6  7  8  9 10 11 12]\n"
     ]
    }
   ],
   "source": [
    ">>> print(a2)  # New array\n"
   ]
  },
  {
   "cell_type": "code",
   "execution_count": null,
   "id": "cb2f4397",
   "metadata": {},
   "outputs": [],
   "source": [
    ">>> a = np.array([1, 2, 3, 4, 5, 6])\n",
    "a"
   ]
  },
  {
   "cell_type": "code",
   "execution_count": null,
   "id": "9c215271",
   "metadata": {},
   "outputs": [],
   "source": [
    "import numpy as np\n",
    "import pandas as pd\n",
    "a = np.array([1, 2, 3, 4, 5, 6])\n",
    "np.save('filename', a)          # saves to 'filename.npy'\n",
    "\n",
    "b = np.load('filename.npy')     # loads the array back\n",
    "print(b)\n"
   ]
  },
  {
   "cell_type": "code",
   "execution_count": null,
   "id": "cd709a93",
   "metadata": {},
   "outputs": [],
   "source": [
    ">>> print(b)\n"
   ]
  },
  {
   "cell_type": "code",
   "execution_count": null,
   "id": "53a44fec",
   "metadata": {},
   "outputs": [],
   "source": [
    ">>> csv_arr = np.array([1, 2, 3, 4, 5, 6, 7, 8])"
   ]
  },
  {
   "cell_type": "code",
   "execution_count": null,
   "id": "f6073c19",
   "metadata": {},
   "outputs": [],
   "source": [
    ">>> np.savetxt('new_file.csv', csv_arr)\n"
   ]
  },
  {
   "cell_type": "code",
   "execution_count": null,
   "id": "fc6bab5c",
   "metadata": {},
   "outputs": [],
   "source": [
    ">>> np.loadtxt('new_file.csv')\n",
    "array([1., 2., 3., 4., 5., 6., 7., 8.])\n"
   ]
  },
  {
   "cell_type": "code",
   "execution_count": 4,
   "id": "542af00c",
   "metadata": {},
   "outputs": [],
   "source": [
    "import pandas as pd\n",
    "\n",
    "# Create sample data\n",
    "df = pd.DataFrame({\n",
    "    'Artist': ['Billie Holiday', 'Jimmie Hendrix', 'Miles Davis', 'SIA'],\n",
    "    'Genre': ['Jazz', 'Rock', 'Jazz', 'Pop'],\n",
    "    'Plays': [1300000, 2700000, 1500000, 2000000],\n",
    "    'Streams': [27000000, 70000000, 48000000, 74000000]\n",
    "})\n",
    "\n",
    "# Save to CSV\n",
    "df.to_csv('music.csv', index=False)\n"
   ]
  },
  {
   "cell_type": "code",
   "execution_count": 5,
   "id": "92f09136",
   "metadata": {
    "scrolled": true
   },
   "outputs": [
    {
     "name": "stdout",
     "output_type": "stream",
     "text": [
      "[['Billie Holiday' 1300000]\n",
      " ['Jimmie Hendrix' 2700000]\n",
      " ['Miles Davis' 1500000]\n",
      " ['SIA' 2000000]]\n"
     ]
    }
   ],
   "source": [
    "import pandas as pd\n",
    "\n",
    "x = pd.read_csv('music.csv', usecols=['Artist', 'Plays']).values\n",
    "print(x)\n"
   ]
  },
  {
   "cell_type": "code",
   "execution_count": 18,
   "id": "72956576",
   "metadata": {},
   "outputs": [],
   "source": [
    "import numpy as np\n",
    ">>> a = np.array([[-2.58289208,  0.43014843, -1.24082018, 1.59572603],\n",
    "...               [ 0.99027828, 1.17150989,  0.94125714, -0.14692469],\n",
    "...               [ 0.76989341,  0.81299683, -0.95068423, 0.11769564],\n",
    "...               [ 0.20484034,  0.34784527,  1.96979195, 0.51992837]])"
   ]
  },
  {
   "cell_type": "code",
   "execution_count": 30,
   "id": "dce28b27",
   "metadata": {},
   "outputs": [
    {
     "name": "stdout",
     "output_type": "stream",
     "text": [
      "          0         1         2         3\n",
      "0 -2.582892  0.430148 -1.240820  1.595726\n",
      "1  0.990278  1.171510  0.941257 -0.146925\n",
      "2  0.769893  0.812997 -0.950684  0.117696\n",
      "3  0.204840  0.347845  1.969792  0.519928\n"
     ]
    }
   ],
   "source": [
    "import pandas as pd\n",
    ">>> df = pd.DataFrame(a)\n",
    ">>> print(df)"
   ]
  },
  {
   "cell_type": "code",
   "execution_count": 34,
   "id": "4f2151f1",
   "metadata": {},
   "outputs": [],
   "source": [
    ">>> df.to_csv('pd.csv')\n",
    "\n"
   ]
  },
  {
   "cell_type": "code",
   "execution_count": 35,
   "id": "5f0c0049",
   "metadata": {},
   "outputs": [],
   "source": [
    ">>> data = pd.read_csv('pd.csv')"
   ]
  },
  {
   "cell_type": "code",
   "execution_count": 36,
   "id": "6625e056",
   "metadata": {},
   "outputs": [
    {
     "name": "stdout",
     "output_type": "stream",
     "text": [
      "   Unnamed: 0         0         1         2         3\n",
      "0           0 -2.582892  0.430148 -1.240820  1.595726\n",
      "1           1  0.990278  1.171510  0.941257 -0.146925\n",
      "2           2  0.769893  0.812997 -0.950684  0.117696\n",
      "3           3  0.204840  0.347845  1.969792  0.519928\n"
     ]
    }
   ],
   "source": [
    "print(data.head())   # Show first 5 rows\n"
   ]
  },
  {
   "cell_type": "code",
   "execution_count": 37,
   "id": "f3e72cc2",
   "metadata": {},
   "outputs": [],
   "source": [
    ">>> np.savetxt('np.csv', a, fmt='%.2f', delimiter=',', header='1,  2,  3,  4')\n"
   ]
  },
  {
   "cell_type": "code",
   "execution_count": 38,
   "id": "74b5e905",
   "metadata": {},
   "outputs": [
    {
     "name": "stdout",
     "output_type": "stream",
     "text": [
      "[[-0.52  0.4   1.27 -0.54]\n",
      " [ 0.36  0.58  1.06 -0.78]\n",
      " [-0.98  1.55 -0.26 -0.09]\n",
      " [-0.23 -0.85  0.42 -0.28]]\n"
     ]
    }
   ],
   "source": [
    "import numpy as np\n",
    "\n",
    "a = np.random.randn(4, 4)\n",
    "np.savetxt('np.csv', a, fmt='%.2f', delimiter=',', header='1,2,3,4', comments='')\n",
    "\n",
    "# Later load it again (skip header)\n",
    "data = np.loadtxt('np.csv', delimiter=',', skiprows=1)\n",
    "print(data)\n"
   ]
  },
  {
   "cell_type": "code",
   "execution_count": 40,
   "id": "20064fa9",
   "metadata": {},
   "outputs": [
    {
     "data": {
      "text/plain": [
       "array([ 2,  1,  5,  7,  4,  6,  8, 14, 10,  9, 18, 20, 22])"
      ]
     },
     "execution_count": 40,
     "metadata": {},
     "output_type": "execute_result"
    }
   ],
   "source": [
    ">>> a = np.array([2, 1, 5, 7, 4, 6, 8, 14, 10, 9, 18, 20, 22])\n",
    "a"
   ]
  },
  {
   "cell_type": "code",
   "execution_count": 41,
   "id": "3335978c",
   "metadata": {},
   "outputs": [],
   "source": [
    ">>> import matplotlib.pyplot as plt\n"
   ]
  },
  {
   "cell_type": "code",
   "execution_count": 42,
   "id": "f95791c5",
   "metadata": {},
   "outputs": [],
   "source": [
    "%matplotlib inline\n"
   ]
  },
  {
   "cell_type": "code",
   "execution_count": 43,
   "id": "a4ae0fbc",
   "metadata": {},
   "outputs": [
    {
     "data": {
      "text/plain": [
       "[<matplotlib.lines.Line2D at 0x2b80eda7640>]"
      ]
     },
     "execution_count": 43,
     "metadata": {},
     "output_type": "execute_result"
    },
    {
     "data": {
      "image/png": "[encoded data removed]",
      "text/plain": [
       "<Figure size 432x288 with 1 Axes>"
      ]
     },
     "metadata": {
      "needs_background": "light"
     },
     "output_type": "display_data"
    }
   ],
   "source": [
    ">>> plt.plot(a)\n"
   ]
  },
  {
   "cell_type": "code",
   "execution_count": 44,
   "id": "288547ff",
   "metadata": {},
   "outputs": [
    {
     "data": {
      "text/plain": [
       "[<matplotlib.lines.Line2D at 0x2b80eea8a90>]"
      ]
     },
     "execution_count": 44,
     "metadata": {},
     "output_type": "execute_result"
    },
    {
     "data": {
      "image/png": "[encoded data removed]",
      "text/plain": [
       "<Figure size 432x288 with 1 Axes>"
      ]
     },
     "metadata": {
      "needs_background": "light"
     },
     "output_type": "display_data"
    }
   ],
   "source": [
    ">>> x = np.linspace(0, 5, 20)\n",
    ">>> y = np.linspace(0, 10, 20)\n",
    ">>> plt.plot(x, y, 'purple') # line\n",
    ">>> plt.plot(x, y, 'o')      # dots"
   ]
  },
  {
   "cell_type": "markdown",
   "id": "c17df73a",
   "metadata": {},
   "source": [
    ">>> fig = plt.figure()\n",
    ">>> ax = fig.add_subplot(projection='3d')\n",
    "\n",
    "Creates a blank figure and adds a 3D subplot to it using the projection='3d' argument.\n",
    "\n",
    "\n",
    ">>> X = np.arange(-5, 5, 0.15)\n",
    ">>> Y = np.arange(-5, 5, 0.15)\n",
    ">>> X, Y = np.meshgrid(X, Y)\n",
    ">>> R = np.sqrt(X**2 + Y**2)\n",
    ">>> Z = np.sin(R)\n",
    "\n",
    ">>> ax.plot_surface(X, Y, Z, rstride=1, cstride=1, cmap='viridis')"
   ]
  },
  {
   "cell_type": "markdown",
   "id": "6710ee30",
   "metadata": {},
   "source": [
    ">>> fig = plt.figure()\n",
    ">>> ax = fig.add_subplot(projection='3d')\n",
    "\n",
    "#Creates a blank figure and adds a 3D subplot to it using the projection='3d' argument.\n",
    "\n",
    "\n",
    "\n",
    "\n",
    ">>> X = np.arange(-5, 5, 0.15)\n",
    ">>> Y = np.arange(-5, 5, 0.15)\n",
    ">>> X, Y = np.meshgrid(X, Y)\n",
    "\n",
    "#np.meshgrid converts X and Y into 2D grids so you can evaluate functions across a plane (like X-Y coordinates in 3D).\n",
    "\n",
    "\n",
    ">>> R = np.sqrt(X**2 + Y**2)\n",
    ">>> Z = np.sin(R)\n",
    "\n",
    "#Computes distance R from the origin to each (X, Y) point.\n",
    "\n",
    "#Then Z = sin(R) creates a ripple or wave pattern, like a circular wave.\n",
    "\n",
    ">>> ax.plot_surface(X, Y, Z, rstride=1, cstride=1, cmap='viridis')"
   ]
  },
  {
   "cell_type": "code",
   "execution_count": 47,
   "id": "7d336b41",
   "metadata": {},
   "outputs": [
    {
     "data": {
      "image/png": "[encoded data removed]",
      "text/plain": [
       "<Figure size 432x288 with 1 Axes>"
      ]
     },
     "metadata": {
      "needs_background": "light"
     },
     "output_type": "display_data"
    }
   ],
   "source": [
    "import numpy as np\n",
    "import matplotlib.pyplot as plt\n",
    "from mpl_toolkits.mplot3d import Axes3D  # required for 3D plotting\n",
    "\n",
    "# Step 1: Create a 3D figure\n",
    "fig = plt.figure()\n",
    "ax = fig.add_subplot(projection='3d')  # Add a 3D subplot to the figure\n",
    "\n",
    "# Step 2: Create 1D arrays of X and Y values from -5 to just below 5 with step 0.15\n",
    "X = np.arange(-5, 5, 0.15)\n",
    "Y = np.arange(-5, 5, 0.15)\n",
    "\n",
    "# Step 3: Create 2D grid coordinates from the 1D arrays\n",
    "X, Y = np.meshgrid(X, Y)  # Creates a coordinate grid from X and Y\n",
    "\n",
    "# Step 4: Compute distance from origin (0,0) to each (X, Y) point\n",
    "R = np.sqrt(X**2 + Y**2)\n",
    "\n",
    "# Step 5: Calculate Z-values using the sine of the radius\n",
    "Z = np.sin(R)  # This gives a ripple pattern\n",
    "\n",
    "# Step 6: Plot the 3D surface\n",
    "# - rstride and cstride contr\n"
   ]
  },
  {
   "cell_type": "code",
   "execution_count": 52,
   "id": "78be760d",
   "metadata": {},
   "outputs": [
    {
     "data": {
      "image/png": "[encoded data removed]",
      "text/plain": [
       "<Figure size 432x288 with 1 Axes>"
      ]
     },
     "metadata": {
      "needs_background": "light"
     },
     "output_type": "display_data"
    }
   ],
   "source": [
    "import numpy as np\n",
    "import matplotlib.pyplot as plt\n",
    "from mpl_toolkits.mplot3d import Axes3D\n",
    "\n",
    "fig = plt.figure()\n",
    "ax = fig.add_subplot(projection='3d')\n",
    "\n",
    "X = np.arange(-5, 5, 0.15)\n",
    "Y = np.arange(-5, 5, 0.15)\n",
    "X, Y = np.meshgrid(X, Y)\n",
    "R = np.sqrt(X**2 + Y**2)\n",
    "Z = np.sin(R)\n",
    "\n",
    "ax.plot_surface(X, Y, Z, rstride=1, cstride=1, cmap='viridis')\n",
    "plt.show()\n"
   ]
  },
  {
   "cell_type": "code",
   "execution_count": 48,
   "id": "f11c32cd",
   "metadata": {},
   "outputs": [
    {
     "data": {
      "text/plain": [
       "<mpl_toolkits.mplot3d.art3d.Poly3DCollection at 0x2b81097f9d0>"
      ]
     },
     "execution_count": 48,
     "metadata": {},
     "output_type": "execute_result"
    },
    {
     "data": {
      "image/png": "[encoded data removed]",
      "text/plain": [
       "<Figure size 432x288 with 1 Axes>"
      ]
     },
     "metadata": {
      "needs_background": "light"
     },
     "output_type": "display_data"
    }
   ],
   "source": [
    ">>> fig = plt.figure()\n",
    ">>> ax = fig.add_subplot(projection='3d')\n",
    ">>> X = np.arange(-5, 5, 0.15)\n",
    ">>> Y = np.arange(-5, 5, 0.15)\n",
    ">>> X, Y = np.meshgrid(X, Y)\n",
    ">>> R = np.sqrt(X**2 + Y**2)\n",
    ">>> Z = np.sin(R)\n",
    "\n",
    ">>> ax.plot_surface(X, Y, Z, rstride=1, cstride=1, cmap='viridis')"
   ]
  },
  {
   "cell_type": "markdown",
   "id": "65562efd",
   "metadata": {},
   "source": [
    "# Array Creation"
   ]
  },
  {
   "cell_type": "code",
   "execution_count": 53,
   "id": "ae12a69c",
   "metadata": {},
   "outputs": [
    {
     "name": "stdout",
     "output_type": "stream",
     "text": [
      "[1 2 3]\n",
      "[4 5 6]\n"
     ]
    }
   ],
   "source": [
    "import numpy as np\n",
    "\n",
    "list_data = [1, 2, 3]\n",
    "tuple_data = (4, 5, 6)\n",
    "\n",
    "arr1 = np.array(list_data)\n",
    "arr2 = np.array(tuple_data)\n",
    "\n",
    "print(arr1)  # Output: [1 2 3]\n",
    "print(arr2)  # Output: [4 5 6]\n"
   ]
  },
  {
   "cell_type": "code",
   "execution_count": 54,
   "id": "eb006114",
   "metadata": {},
   "outputs": [
    {
     "name": "stdout",
     "output_type": "stream",
     "text": [
      "[0 1 2 3 4]\n",
      "[[0. 0. 0.]\n",
      " [0. 0. 0.]]\n",
      "[[1. 1.]\n",
      " [1. 1.]]\n",
      "[0.   0.25 0.5  0.75 1.  ]\n"
     ]
    }
   ],
   "source": [
    "a = np.arange(5)           # [0 1 2 3 4]\n",
    "b = np.zeros((2, 3))       # 2x3 array of zeros\n",
    "c = np.ones((2, 2))        # 2x2 array of ones\n",
    "d = np.linspace(0, 1, 5)   # 5 numbers from 0 to 1\n",
    "\n",
    "print(a)\n",
    "print(b)\n",
    "print(c)\n",
    "print(d)\n"
   ]
  },
  {
   "cell_type": "code",
   "execution_count": 55,
   "id": "a38b1a77",
   "metadata": {},
   "outputs": [
    {
     "name": "stdout",
     "output_type": "stream",
     "text": [
      "[1 2 3 1 2 3]\n",
      "[1 2 3 4 5 6]\n"
     ]
    }
   ],
   "source": [
    "a = np.array([1, 2, 3])\n",
    "rep = np.tile(a, 2)  # [1 2 3 1 2 3]\n",
    "\n",
    "b = np.array([4, 5, 6])\n",
    "concat = np.concatenate((a, b))  # [1 2 3 4 5 6]\n",
    "\n",
    "print(rep)\n",
    "print(concat)\n"
   ]
  },
  {
   "cell_type": "code",
   "execution_count": 3,
   "id": "897478b4",
   "metadata": {},
   "outputs": [
    {
     "ename": "NameError",
     "evalue": "name 'np' is not defined",
     "output_type": "error",
     "traceback": [
      "\u001b[1;31m---------------------------------------------------------------------------\u001b[0m",
      "\u001b[1;31mNameError\u001b[0m                                 Traceback (most recent call last)",
      "\u001b[1;32m~\\AppData\\Local\\Temp/ipykernel_12848/503120476.py\u001b[0m in \u001b[0;36m<module>\u001b[1;34m\u001b[0m\n\u001b[0;32m      1\u001b[0m \u001b[1;31m# Save and load a NumPy array\u001b[0m\u001b[1;33m\u001b[0m\u001b[1;33m\u001b[0m\u001b[0m\n\u001b[1;32m----> 2\u001b[1;33m \u001b[0ma\u001b[0m \u001b[1;33m=\u001b[0m \u001b[0mnp\u001b[0m\u001b[1;33m.\u001b[0m\u001b[0marray\u001b[0m\u001b[1;33m(\u001b[0m\u001b[1;33m[\u001b[0m\u001b[1;36m1\u001b[0m\u001b[1;33m,\u001b[0m \u001b[1;36m2\u001b[0m\u001b[1;33m,\u001b[0m \u001b[1;36m3\u001b[0m\u001b[1;33m,\u001b[0m \u001b[1;36m4\u001b[0m\u001b[1;33m]\u001b[0m\u001b[1;33m)\u001b[0m\u001b[1;33m\u001b[0m\u001b[1;33m\u001b[0m\u001b[0m\n\u001b[0m\u001b[0;32m      3\u001b[0m \u001b[0mnp\u001b[0m\u001b[1;33m.\u001b[0m\u001b[0msave\u001b[0m\u001b[1;33m(\u001b[0m\u001b[1;34m'myarray.npy'\u001b[0m\u001b[1;33m,\u001b[0m \u001b[0ma\u001b[0m\u001b[1;33m)\u001b[0m\u001b[1;33m\u001b[0m\u001b[1;33m\u001b[0m\u001b[0m\n\u001b[0;32m      4\u001b[0m \u001b[0mloaded\u001b[0m \u001b[1;33m=\u001b[0m \u001b[0mnp\u001b[0m\u001b[1;33m.\u001b[0m\u001b[0mload\u001b[0m\u001b[1;33m(\u001b[0m\u001b[1;34m'myarray.npy'\u001b[0m\u001b[1;33m)\u001b[0m\u001b[1;33m\u001b[0m\u001b[1;33m\u001b[0m\u001b[0m\n\u001b[0;32m      5\u001b[0m \u001b[1;33m\u001b[0m\u001b[0m\n",
      "\u001b[1;31mNameError\u001b[0m: name 'np' is not defined"
     ]
    }
   ],
   "source": [
    "# Save and load a NumPy array\n",
    "a = np.array([1, 2, 3, 4])\n",
    "np.save('myarray.npy', a)\n",
    "loaded = np.load('myarray.npy')\n",
    "\n",
    "print(loaded)  # [1 2 3 4]\n",
    "\n",
    "# Reading from CSV (e.g. using pandas)\n",
    "import pandas as pd\n",
    "df = pd.read_csv('mydata.csv')\n",
    "array_from_csv = df.values\n",
    "print(array_from_csv)\n"
   ]
  },
  {
   "cell_type": "code",
   "execution_count": 58,
   "id": "6d8f03eb",
   "metadata": {},
   "outputs": [
    {
     "name": "stdout",
     "output_type": "stream",
     "text": [
      "[1 2 3 4]\n"
     ]
    }
   ],
   "source": [
    "s = b'\\x01\\x02\\x03\\x04'\n",
    "arr = np.frombuffer(s, dtype=np.uint8)\n",
    "print(arr)  # Output: [1 2 3 4]\n"
   ]
  },
  {
   "cell_type": "code",
   "execution_count": 4,
   "id": "f0017ac7",
   "metadata": {},
   "outputs": [
    {
     "name": "stdout",
     "output_type": "stream",
     "text": [
      "[[1. 0. 0.]\n",
      " [0. 1. 0.]\n",
      " [0. 0. 1.]]\n",
      "[[1. 0. 0. 0. 0.]\n",
      " [0. 1. 0. 0. 0.]\n",
      " [0. 0. 1. 0. 0.]]\n"
     ]
    }
   ],
   "source": [
    "import numpy as np\n",
    "\n",
    "# 3x3 identity matrix\n",
    "print(np.eye(3))\n",
    "\n",
    "# 3x5 matrix with diagonal ones\n",
    "print(np.eye(3, 5))\n"
   ]
  },
  {
   "cell_type": "code",
   "execution_count": 5,
   "id": "7daf1398",
   "metadata": {},
   "outputs": [
    {
     "data": {
      "text/plain": [
       "array([[ 1.,  1.,  1.,  0.],\n",
       "       [ 1.,  1.,  0.,  1.],\n",
       "       [ 0.,  0., -3.,  0.],\n",
       "       [ 0.,  0.,  0., -4.]])"
      ]
     },
     "execution_count": 5,
     "metadata": {},
     "output_type": "execute_result"
    }
   ],
   "source": [
    ">>> import numpy as np\n",
    ">>> A = np.ones((2, 2))\n",
    ">>> B = np.eye(2, 2)\n",
    ">>> C = np.zeros((2, 2))\n",
    ">>> D = np.diag((-3, -4))\n",
    ">>> np.block([[A, B], [C, D]])"
   ]
  },
  {
   "cell_type": "code",
   "execution_count": 64,
   "id": "e0290b38",
   "metadata": {},
   "outputs": [
    {
     "data": {
      "text/plain": [
       "array([1, 3, 5])"
      ]
     },
     "execution_count": 64,
     "metadata": {},
     "output_type": "execute_result"
    }
   ],
   "source": [
    ">>> x = np.array([0, 1, 2, 3, 4, 5, 6, 7, 8, 9])\n",
    ">>> x[1:7:2]"
   ]
  },
  {
   "cell_type": "code",
   "execution_count": 65,
   "id": "c7836c63",
   "metadata": {},
   "outputs": [
    {
     "data": {
      "text/plain": [
       "array([8, 9])"
      ]
     },
     "execution_count": 65,
     "metadata": {},
     "output_type": "execute_result"
    }
   ],
   "source": [
    ">>> x[-2:10]\n"
   ]
  },
  {
   "cell_type": "code",
   "execution_count": 69,
   "id": "444954d0",
   "metadata": {},
   "outputs": [
    {
     "data": {
      "text/plain": [
       "array([7, 6, 5, 4])"
      ]
     },
     "execution_count": 69,
     "metadata": {},
     "output_type": "execute_result"
    }
   ],
   "source": [
    ">>> x[-3:3:-1]\n"
   ]
  },
  {
   "cell_type": "code",
   "execution_count": 70,
   "id": "9577bcca",
   "metadata": {},
   "outputs": [
    {
     "data": {
      "text/plain": [
       "array([1])"
      ]
     },
     "execution_count": 70,
     "metadata": {},
     "output_type": "execute_result"
    }
   ],
   "source": [
    ">>> x[1:2]\n"
   ]
  },
  {
   "cell_type": "code",
   "execution_count": 71,
   "id": "df455791",
   "metadata": {},
   "outputs": [
    {
     "data": {
      "text/plain": [
       "array(0)"
      ]
     },
     "execution_count": 71,
     "metadata": {},
     "output_type": "execute_result"
    }
   ],
   "source": [
    ">>> x[..., 0]\n"
   ]
  },
  {
   "cell_type": "code",
   "execution_count": 73,
   "id": "7bfe17ed",
   "metadata": {},
   "outputs": [
    {
     "data": {
      "text/plain": [
       "array([[0, 1, 2, 3, 4],\n",
       "       [1, 2, 3, 4, 5],\n",
       "       [2, 3, 4, 5, 6],\n",
       "       [3, 4, 5, 6, 7],\n",
       "       [4, 5, 6, 7, 8]])"
      ]
     },
     "execution_count": 73,
     "metadata": {},
     "output_type": "execute_result"
    }
   ],
   "source": [
    ">>> x = np.arange(5)\n",
    ">>> x[:, np.newaxis] + x[np.newaxis, :]\n"
   ]
  },
  {
   "cell_type": "markdown",
   "id": "5cd76d82",
   "metadata": {},
   "source": [
    "#Integer Array Idexing"
   ]
  },
  {
   "cell_type": "code",
   "execution_count": 79,
   "id": "d63ccf01",
   "metadata": {},
   "outputs": [
    {
     "data": {
      "text/plain": [
       "array([10,  9,  8,  7,  6,  5,  4,  3,  2])"
      ]
     },
     "execution_count": 79,
     "metadata": {},
     "output_type": "execute_result"
    }
   ],
   "source": [
    ">>> x = np.arange(10, 1, -1)\n",
    "x"
   ]
  },
  {
   "cell_type": "code",
   "execution_count": 76,
   "id": "09c7d69d",
   "metadata": {},
   "outputs": [
    {
     "data": {
      "text/plain": [
       "array([7, 7, 9, 2])"
      ]
     },
     "execution_count": 76,
     "metadata": {},
     "output_type": "execute_result"
    }
   ],
   "source": [
    ">>> x[np.array([3, 3, 1, 8])]\n"
   ]
  },
  {
   "cell_type": "code",
   "execution_count": 77,
   "id": "f5af844e",
   "metadata": {},
   "outputs": [
    {
     "data": {
      "text/plain": [
       "array([7, 7, 4, 2])"
      ]
     },
     "execution_count": 77,
     "metadata": {},
     "output_type": "execute_result"
    }
   ],
   "source": [
    ">>> x[np.array([3, 3, -3, 8])]\n"
   ]
  },
  {
   "cell_type": "code",
   "execution_count": 81,
   "id": "7d1b44a4",
   "metadata": {},
   "outputs": [
    {
     "data": {
      "text/plain": [
       "array([[3, 4],\n",
       "       [5, 6]])"
      ]
     },
     "execution_count": 81,
     "metadata": {},
     "output_type": "execute_result"
    }
   ],
   "source": [
    ">>> x = np.array([[1, 2], [3, 4], [5, 6]])\n",
    ">>> x[np.array([1, -1])]\n"
   ]
  },
  {
   "cell_type": "code",
   "execution_count": 82,
   "id": "39b6316f",
   "metadata": {},
   "outputs": [
    {
     "ename": "IndexError",
     "evalue": "index 3 is out of bounds for axis 0 with size 3",
     "output_type": "error",
     "traceback": [
      "\u001b[1;31m---------------------------------------------------------------------------\u001b[0m",
      "\u001b[1;31mIndexError\u001b[0m                                Traceback (most recent call last)",
      "\u001b[1;32m~\\AppData\\Local\\Temp/ipykernel_4392/76658155.py\u001b[0m in \u001b[0;36m<module>\u001b[1;34m\u001b[0m\n\u001b[1;32m----> 1\u001b[1;33m \u001b[0mx\u001b[0m\u001b[1;33m[\u001b[0m\u001b[0mnp\u001b[0m\u001b[1;33m.\u001b[0m\u001b[0marray\u001b[0m\u001b[1;33m(\u001b[0m\u001b[1;33m[\u001b[0m\u001b[1;36m3\u001b[0m\u001b[1;33m,\u001b[0m \u001b[1;36m4\u001b[0m\u001b[1;33m]\u001b[0m\u001b[1;33m)\u001b[0m\u001b[1;33m]\u001b[0m\u001b[1;33m\u001b[0m\u001b[1;33m\u001b[0m\u001b[0m\n\u001b[0m",
      "\u001b[1;31mIndexError\u001b[0m: index 3 is out of bounds for axis 0 with size 3"
     ]
    }
   ],
   "source": [
    ">>> x[np.array([3, 4])]\n"
   ]
  },
  {
   "cell_type": "code",
   "execution_count": 84,
   "id": "39a5dcb7",
   "metadata": {},
   "outputs": [
    {
     "data": {
      "text/plain": [
       "array([[ 0,  1,  2,  3,  4,  5,  6],\n",
       "       [ 7,  8,  9, 10, 11, 12, 13],\n",
       "       [14, 15, 16, 17, 18, 19, 20],\n",
       "       [21, 22, 23, 24, 25, 26, 27],\n",
       "       [28, 29, 30, 31, 32, 33, 34]])"
      ]
     },
     "execution_count": 84,
     "metadata": {},
     "output_type": "execute_result"
    }
   ],
   "source": [
    ">>> y = np.arange(35).reshape(5, 7)\n",
    ">>> y"
   ]
  },
  {
   "cell_type": "code",
   "execution_count": 85,
   "id": "65e691c3",
   "metadata": {},
   "outputs": [
    {
     "data": {
      "text/plain": [
       "array([ 0, 15, 30])"
      ]
     },
     "execution_count": 85,
     "metadata": {},
     "output_type": "execute_result"
    }
   ],
   "source": [
    ">>> y[np.array([0, 2, 4]), np.array([0, 1, 2])]\n"
   ]
  },
  {
   "cell_type": "markdown",
   "id": "6c00ea27",
   "metadata": {},
   "source": [
    "NumPy interprets this as:\n",
    "\n",
    "Select y[0,0], y[2,1], and y[4,2]\n",
    "\n",
    "That’s one element from each row/column pair at corresponding positions."
   ]
  },
  {
   "cell_type": "code",
   "execution_count": 87,
   "id": "28381fac",
   "metadata": {},
   "outputs": [
    {
     "data": {
      "text/plain": [
       "array([ 1, 22, 29])"
      ]
     },
     "execution_count": 87,
     "metadata": {},
     "output_type": "execute_result"
    }
   ],
   "source": [
    ">>> y[np.array([0, 3, 4]), 1]\n"
   ]
  },
  {
   "cell_type": "code",
   "execution_count": 88,
   "id": "e73db608",
   "metadata": {},
   "outputs": [
    {
     "data": {
      "text/plain": [
       "array([ 1, 15, 29])"
      ]
     },
     "execution_count": 88,
     "metadata": {},
     "output_type": "execute_result"
    }
   ],
   "source": [
    ">>> y[np.array([0, 2, 4]), 1]\n"
   ]
  },
  {
   "cell_type": "code",
   "execution_count": 89,
   "id": "b155ebe4",
   "metadata": {},
   "outputs": [
    {
     "data": {
      "text/plain": [
       "array([[ 0,  1,  2,  3,  4,  5,  6],\n",
       "       [14, 15, 16, 17, 18, 19, 20],\n",
       "       [28, 29, 30, 31, 32, 33, 34]])"
      ]
     },
     "execution_count": 89,
     "metadata": {},
     "output_type": "execute_result"
    }
   ],
   "source": [
    ">>> y[np.array([0, 2, 4])]\n"
   ]
  },
  {
   "cell_type": "code",
   "execution_count": 10,
   "id": "222c4b2f",
   "metadata": {},
   "outputs": [
    {
     "data": {
      "text/plain": [
       "array([1, 4, 5])"
      ]
     },
     "execution_count": 10,
     "metadata": {},
     "output_type": "execute_result"
    }
   ],
   "source": [
    ">>> x = np.array([[1, 2], [3, 4], [5, 6]])\n",
    ">>> x[[0, 1, 2], [0, 1, 0]]"
   ]
  },
  {
   "cell_type": "code",
   "execution_count": 11,
   "id": "be52df6f",
   "metadata": {},
   "outputs": [
    {
     "data": {
      "text/plain": [
       "array([[ 0,  2],\n",
       "       [ 9, 11]])"
      ]
     },
     "execution_count": 11,
     "metadata": {},
     "output_type": "execute_result"
    }
   ],
   "source": [
    ">>> x = np.array([[ 0,  1,  2],\n",
    "...               [ 3,  4,  5],\n",
    "...               [ 6,  7,  8],\n",
    "...               [ 9, 10, 11]])\n",
    ">>> rows = np.array([[0, 0],\n",
    "...                  [3, 3]], dtype=np.intp)\n",
    ">>> columns = np.array([[0, 2],\n",
    "...                     [0, 2]], dtype=np.intp)\n",
    ">>> x[rows, columns]"
   ]
  },
  {
   "cell_type": "code",
   "execution_count": 12,
   "id": "48e07633",
   "metadata": {},
   "outputs": [
    {
     "data": {
      "text/plain": [
       "array([[0],\n",
       "       [3]], dtype=int64)"
      ]
     },
     "execution_count": 12,
     "metadata": {},
     "output_type": "execute_result"
    }
   ],
   "source": [
    ">>> rows = np.array([0, 3], dtype=np.intp)\n",
    ">>> columns = np.array([0, 2], dtype=np.intp)\n",
    ">>> rows[:, np.newaxis]\n",
    "\n"
   ]
  },
  {
   "cell_type": "code",
   "execution_count": 13,
   "id": "75a12c8f",
   "metadata": {},
   "outputs": [
    {
     "data": {
      "text/plain": [
       "array([[ 0,  2],\n",
       "       [ 9, 11]])"
      ]
     },
     "execution_count": 13,
     "metadata": {},
     "output_type": "execute_result"
    }
   ],
   "source": [
    ">>> x[rows[:, np.newaxis], columns]\n",
    "np.array([[ 0,  2],\n",
    "       [ 9, 11]])"
   ]
  },
  {
   "cell_type": "code",
   "execution_count": 14,
   "id": "00fa4fd3",
   "metadata": {},
   "outputs": [
    {
     "data": {
      "text/plain": [
       "array([[ 0,  2],\n",
       "       [ 9, 11]])"
      ]
     },
     "execution_count": 14,
     "metadata": {},
     "output_type": "execute_result"
    }
   ],
   "source": [
    ">>> x[np.ix_(rows, columns)]\n"
   ]
  },
  {
   "cell_type": "markdown",
   "id": "c30a3a90",
   "metadata": {},
   "source": [
    ">>> x[rows, columns]\n",
    "\n",
    "Note that without the np.ix_ call, only the diagonal elements would be selected:\n",
    "\n",
    "\n"
   ]
  },
  {
   "cell_type": "markdown",
   "id": "31e54df6",
   "metadata": {},
   "source": [
    "# ✅ Boolean Array Indexing with NumPy \n",
    "\n"
   ]
  },
  {
   "cell_type": "code",
   "execution_count": 15,
   "id": "6d1a946f",
   "metadata": {},
   "outputs": [
    {
     "name": "stdout",
     "output_type": "stream",
     "text": [
      "Filtered non-NaN values: [1. 2. 3.]\n"
     ]
    }
   ],
   "source": [
    "x = np.array([[1., 2.], [np.nan, 3.], [np.nan, np.nan]])\n",
    "print(\"Filtered non-NaN values:\", x[~np.isnan(x)])\n"
   ]
  },
  {
   "cell_type": "code",
   "execution_count": 17,
   "id": "23092c6f",
   "metadata": {},
   "outputs": [
    {
     "name": "stdout",
     "output_type": "stream",
     "text": [
      "After adding to negative elements: [ 1. 19. 18.  3.]\n"
     ]
    }
   ],
   "source": [
    "x = np.array([1., -1., -2., 3])\n",
    "x[x < 0] += 20\n",
    "print(\"After adding to negative elements:\", x)"
   ]
  },
  {
   "cell_type": "code",
   "execution_count": 19,
   "id": "6f3e4514",
   "metadata": {},
   "outputs": [
    {
     "name": "stdout",
     "output_type": "stream",
     "text": [
      "Boolean mask for values > 20 in column 5:\n",
      " [False False False  True  True]\n",
      "Selected rows where column 5 > 20:\n",
      " [[21 22 23 24 25 26 27]\n",
      " [28 29 30 31 32 33 34]]\n"
     ]
    }
   ],
   "source": [
    "x = np.arange(35).reshape(5, 7)\n",
    "b = x > 20\n",
    "print(\"Boolean mask for values > 20 in column 5:\\n\", b[:, 5])\n",
    "print(\"Selected rows where column 5 > 20:\\n\", x[b[:, 5]])\n",
    "\n"
   ]
  },
  {
   "cell_type": "code",
   "execution_count": 24,
   "id": "f3d14a65",
   "metadata": {},
   "outputs": [
    {
     "name": "stdout",
     "output_type": "stream",
     "text": [
      "Rows where sum <= 2:\n",
      " [[0 1]\n",
      " [1 1]]\n"
     ]
    }
   ],
   "source": [
    "x = np.array([[0, 1], [1, 1], [2, 2]])\n",
    "rowsum = x.sum(-1)\n",
    "print(\"Rows where sum <= 2:\\n\", x[rowsum <= 2, :])\n"
   ]
  },
  {
   "cell_type": "code",
   "execution_count": 25,
   "id": "e78a7bc1",
   "metadata": {},
   "outputs": [
    {
     "data": {
      "text/plain": [
       "array([False, False, False,  True,  True])"
      ]
     },
     "execution_count": 25,
     "metadata": {},
     "output_type": "execute_result"
    }
   ],
   "source": [
    ">>> x = np.arange(35).reshape(5, 7)\n",
    ">>> b = x > 20\n",
    ">>> b[:, 5]"
   ]
  },
  {
   "cell_type": "code",
   "execution_count": 26,
   "id": "731b87a6",
   "metadata": {},
   "outputs": [
    {
     "data": {
      "text/plain": [
       "array([[21, 22, 23, 24, 25, 26, 27],\n",
       "       [28, 29, 30, 31, 32, 33, 34]])"
      ]
     },
     "execution_count": 26,
     "metadata": {},
     "output_type": "execute_result"
    }
   ],
   "source": [
    ">>> x[b[:, 5]]\n"
   ]
  },
  {
   "cell_type": "code",
   "execution_count": 27,
   "id": "7103ab98",
   "metadata": {},
   "outputs": [
    {
     "data": {
      "text/plain": [
       "array([[0, 1],\n",
       "       [1, 1]])"
      ]
     },
     "execution_count": 27,
     "metadata": {},
     "output_type": "execute_result"
    }
   ],
   "source": [
    ">>> x = np.array([[0, 1], [1, 1], [2, 2]])\n",
    ">>> rowsum = x.sum(-1)\n",
    ">>> x[rowsum <= 2, :]"
   ]
  },
  {
   "cell_type": "code",
   "execution_count": 28,
   "id": "e6bec478",
   "metadata": {},
   "outputs": [
    {
     "data": {
      "text/plain": [
       "array([False,  True, False,  True])"
      ]
     },
     "execution_count": 28,
     "metadata": {},
     "output_type": "execute_result"
    }
   ],
   "source": [
    ">>> x = np.array([[ 0,  1,  2],\n",
    "...               [ 3,  4,  5],\n",
    "...               [ 6,  7,  8],\n",
    "...               [ 9, 10, 11]])\n",
    ">>> rows = (x.sum(-1) % 2) == 0\n",
    ">>> rows"
   ]
  },
  {
   "cell_type": "code",
   "execution_count": 29,
   "id": "fb02d5fc",
   "metadata": {},
   "outputs": [
    {
     "data": {
      "text/plain": [
       "array([[ 3,  5],\n",
       "       [ 9, 11]])"
      ]
     },
     "execution_count": 29,
     "metadata": {},
     "output_type": "execute_result"
    }
   ],
   "source": [
    ">>> columns = [0, 2]\n",
    ">>> x[np.ix_(rows, columns)]"
   ]
  },
  {
   "cell_type": "code",
   "execution_count": 30,
   "id": "ceea4673",
   "metadata": {},
   "outputs": [
    {
     "data": {
      "text/plain": [
       "array([[ 3,  5],\n",
       "       [ 9, 11]])"
      ]
     },
     "execution_count": 30,
     "metadata": {},
     "output_type": "execute_result"
    }
   ],
   "source": [
    ">>> rows = rows.nonzero()[0]\n",
    ">>> x[rows[:, np.newaxis], columns]"
   ]
  },
  {
   "cell_type": "code",
   "execution_count": 31,
   "id": "4909a7e5",
   "metadata": {},
   "outputs": [
    {
     "data": {
      "text/plain": [
       "array([[[ 0,  1,  2,  3,  4],\n",
       "        [ 5,  6,  7,  8,  9],\n",
       "        [10, 11, 12, 13, 14]],\n",
       "\n",
       "       [[15, 16, 17, 18, 19],\n",
       "        [20, 21, 22, 23, 24],\n",
       "        [25, 26, 27, 28, 29]]])"
      ]
     },
     "execution_count": 31,
     "metadata": {},
     "output_type": "execute_result"
    }
   ],
   "source": [
    ">>> x = np.arange(30).reshape(2, 3, 5)\n",
    ">>> x"
   ]
  },
  {
   "cell_type": "code",
   "execution_count": 32,
   "id": "0bce8068",
   "metadata": {},
   "outputs": [
    {
     "data": {
      "text/plain": [
       "array([[ 0,  1,  2,  3,  4],\n",
       "       [ 5,  6,  7,  8,  9],\n",
       "       [20, 21, 22, 23, 24],\n",
       "       [25, 26, 27, 28, 29]])"
      ]
     },
     "execution_count": 32,
     "metadata": {},
     "output_type": "execute_result"
    }
   ],
   "source": [
    ">>> b = np.array([[True, True, False], [False, True, True]])\n",
    ">>> x[b]"
   ]
  },
  {
   "cell_type": "code",
   "execution_count": 34,
   "id": "5d425e96",
   "metadata": {},
   "outputs": [
    {
     "data": {
      "text/plain": [
       "array([[ 0,  1,  2,  3,  4,  5,  6],\n",
       "       [ 7,  8,  9, 10, 11, 12, 13],\n",
       "       [14, 15, 16, 17, 18, 19, 20],\n",
       "       [21, 22, 23, 24, 25, 26, 27],\n",
       "       [28, 29, 30, 31, 32, 33, 34]])"
      ]
     },
     "execution_count": 34,
     "metadata": {},
     "output_type": "execute_result"
    }
   ],
   "source": [
    ">>> y = np.arange(35).reshape(5,7)\n",
    "y"
   ]
  },
  {
   "cell_type": "code",
   "execution_count": 35,
   "id": "e4fabe1b",
   "metadata": {},
   "outputs": [
    {
     "data": {
      "text/plain": [
       "array([[ 1,  2],\n",
       "       [15, 16],\n",
       "       [29, 30]])"
      ]
     },
     "execution_count": 35,
     "metadata": {},
     "output_type": "execute_result"
    }
   ],
   "source": [
    ">>> y[np.array([0, 2, 4]), 1:3]\n"
   ]
  },
  {
   "cell_type": "code",
   "execution_count": 36,
   "id": "8c1e8107",
   "metadata": {},
   "outputs": [
    {
     "data": {
      "text/plain": [
       "array([[ 1,  2],\n",
       "       [15, 16],\n",
       "       [29, 30]])"
      ]
     },
     "execution_count": 36,
     "metadata": {},
     "output_type": "execute_result"
    }
   ],
   "source": [
    ">>> y[:, 1:3][np.array([0, 2, 4]), :]\n"
   ]
  },
  {
   "cell_type": "code",
   "execution_count": 37,
   "id": "a36d2c24",
   "metadata": {},
   "outputs": [
    {
     "data": {
      "text/plain": [
       "array([[False, False, False, False, False, False, False],\n",
       "       [False, False, False, False, False, False, False],\n",
       "       [False, False, False, False, False, False, False],\n",
       "       [ True,  True,  True,  True,  True,  True,  True],\n",
       "       [ True,  True,  True,  True,  True,  True,  True]])"
      ]
     },
     "execution_count": 37,
     "metadata": {},
     "output_type": "execute_result"
    }
   ],
   "source": [
    ">>> x = np.arange(35).reshape(5, 7)\n",
    ">>> b = x > 20\n",
    ">>> b"
   ]
  },
  {
   "cell_type": "code",
   "execution_count": 38,
   "id": "f2a68a2c",
   "metadata": {},
   "outputs": [
    {
     "data": {
      "text/plain": [
       "array([[22, 23],\n",
       "       [29, 30]])"
      ]
     },
     "execution_count": 38,
     "metadata": {},
     "output_type": "execute_result"
    }
   ],
   "source": [
    ">>> x[b[:, 5], 1:3]\n"
   ]
  },
  {
   "cell_type": "code",
   "execution_count": 40,
   "id": "312891b0",
   "metadata": {},
   "outputs": [
    {
     "data": {
      "text/plain": [
       "array([[(0, [[0., 0., 0.], [0., 0., 0.], [0., 0., 0.]]),\n",
       "        (0, [[0., 0., 0.], [0., 0., 0.], [0., 0., 0.]])],\n",
       "       [(0, [[0., 0., 0.], [0., 0., 0.], [0., 0., 0.]]),\n",
       "        (0, [[0., 0., 0.], [0., 0., 0.], [0., 0., 0.]])]],\n",
       "      dtype=[('a', '<i4'), ('b', '<f8', (3, 3))])"
      ]
     },
     "execution_count": 40,
     "metadata": {},
     "output_type": "execute_result"
    }
   ],
   "source": [
    ">>> x = np.zeros((2, 2), dtype=[('a', np.int32), ('b', np.float64, (3, 3))])\n",
    "x"
   ]
  },
  {
   "cell_type": "code",
   "execution_count": 41,
   "id": "1064a407",
   "metadata": {},
   "outputs": [
    {
     "data": {
      "text/plain": [
       "(2, 2)"
      ]
     },
     "execution_count": 41,
     "metadata": {},
     "output_type": "execute_result"
    }
   ],
   "source": [
    ">>> x['a'].shape\n"
   ]
  },
  {
   "cell_type": "code",
   "execution_count": 42,
   "id": "e5b4b027",
   "metadata": {},
   "outputs": [
    {
     "data": {
      "text/plain": [
       "dtype('int32')"
      ]
     },
     "execution_count": 42,
     "metadata": {},
     "output_type": "execute_result"
    }
   ],
   "source": [
    ">>> x['a'].dtype\n"
   ]
  },
  {
   "cell_type": "code",
   "execution_count": 43,
   "id": "331ab459",
   "metadata": {},
   "outputs": [
    {
     "data": {
      "text/plain": [
       "(2, 2, 3, 3)"
      ]
     },
     "execution_count": 43,
     "metadata": {},
     "output_type": "execute_result"
    }
   ],
   "source": [
    ">>> x['b'].shape\n"
   ]
  },
  {
   "cell_type": "code",
   "execution_count": 44,
   "id": "2fa51e69",
   "metadata": {},
   "outputs": [
    {
     "data": {
      "text/plain": [
       "dtype('float64')"
      ]
     },
     "execution_count": 44,
     "metadata": {},
     "output_type": "execute_result"
    }
   ],
   "source": [
    ">>> x['b'].dtype\n"
   ]
  },
  {
   "cell_type": "code",
   "execution_count": 50,
   "id": "899da5da",
   "metadata": {},
   "outputs": [
    {
     "data": {
      "text/plain": [
       "array([0, 1, 1, 1, 1, 1, 1, 7, 8, 9])"
      ]
     },
     "execution_count": 50,
     "metadata": {},
     "output_type": "execute_result"
    }
   ],
   "source": [
    ">>> x = np.arange(10)\n",
    ">>> x[2:7] = 1\n",
    "x"
   ]
  },
  {
   "cell_type": "code",
   "execution_count": 49,
   "id": "9a8e0f83",
   "metadata": {},
   "outputs": [
    {
     "data": {
      "text/plain": [
       "array([0, 1, 0, 1, 2, 3, 4, 7, 8, 9])"
      ]
     },
     "execution_count": 49,
     "metadata": {},
     "output_type": "execute_result"
    }
   ],
   "source": [
    ">>> x[2:7] = np.arange(5)\n",
    "x"
   ]
  },
  {
   "cell_type": "code",
   "execution_count": 52,
   "id": "31ea9c54",
   "metadata": {},
   "outputs": [
    {
     "data": {
      "text/plain": [
       "array([ 0, 11, 20, 31, 40])"
      ]
     },
     "execution_count": 52,
     "metadata": {},
     "output_type": "execute_result"
    }
   ],
   "source": [
    ">>> x = np.arange(0, 50, 10)\n",
    ">>> x[np.array([1, 1, 3, 1])] += 1\n",
    ">>> x"
   ]
  },
  {
   "cell_type": "markdown",
   "id": "8fdb21d9",
   "metadata": {},
   "source": [
    " the value of the array at x[1] + 1 is assigned to x[1] three times, rather than being incremented 3 times.\n",
    " "
   ]
  },
  {
   "cell_type": "code",
   "execution_count": 53,
   "id": "7e260366",
   "metadata": {},
   "outputs": [
    {
     "data": {
      "text/plain": [
       "40"
      ]
     },
     "execution_count": 53,
     "metadata": {},
     "output_type": "execute_result"
    }
   ],
   "source": [
    ">>> z = np.arange(81).reshape(3, 3, 3, 3)\n",
    ">>> indices = (1, 1, 1, 1)\n",
    ">>> z[indices]"
   ]
  },
  {
   "cell_type": "code",
   "execution_count": 54,
   "id": "a1b2ded7",
   "metadata": {},
   "outputs": [
    {
     "data": {
      "text/plain": [
       "array([[[[ 0,  1,  2],\n",
       "         [ 3,  4,  5],\n",
       "         [ 6,  7,  8]],\n",
       "\n",
       "        [[ 9, 10, 11],\n",
       "         [12, 13, 14],\n",
       "         [15, 16, 17]],\n",
       "\n",
       "        [[18, 19, 20],\n",
       "         [21, 22, 23],\n",
       "         [24, 25, 26]]],\n",
       "\n",
       "\n",
       "       [[[27, 28, 29],\n",
       "         [30, 31, 32],\n",
       "         [33, 34, 35]],\n",
       "\n",
       "        [[36, 37, 38],\n",
       "         [39, 40, 41],\n",
       "         [42, 43, 44]],\n",
       "\n",
       "        [[45, 46, 47],\n",
       "         [48, 49, 50],\n",
       "         [51, 52, 53]]],\n",
       "\n",
       "\n",
       "       [[[54, 55, 56],\n",
       "         [57, 58, 59],\n",
       "         [60, 61, 62]],\n",
       "\n",
       "        [[63, 64, 65],\n",
       "         [66, 67, 68],\n",
       "         [69, 70, 71]],\n",
       "\n",
       "        [[72, 73, 74],\n",
       "         [75, 76, 77],\n",
       "         [78, 79, 80]]]])"
      ]
     },
     "execution_count": 54,
     "metadata": {},
     "output_type": "execute_result"
    }
   ],
   "source": [
    "z"
   ]
  },
  {
   "cell_type": "code",
   "execution_count": 55,
   "id": "8b0f8041",
   "metadata": {},
   "outputs": [
    {
     "data": {
      "text/plain": [
       "array([[[27, 28, 29],\n",
       "        [30, 31, 32],\n",
       "        [33, 34, 35]],\n",
       "\n",
       "       [[36, 37, 38],\n",
       "        [39, 40, 41],\n",
       "        [42, 43, 44]],\n",
       "\n",
       "       [[45, 46, 47],\n",
       "        [48, 49, 50],\n",
       "        [51, 52, 53]]])"
      ]
     },
     "execution_count": 55,
     "metadata": {},
     "output_type": "execute_result"
    }
   ],
   "source": [
    "z[1]"
   ]
  },
  {
   "cell_type": "code",
   "execution_count": 56,
   "id": "fa89df68",
   "metadata": {},
   "outputs": [
    {
     "data": {
      "text/plain": [
       "array([[36, 37, 38],\n",
       "       [39, 40, 41],\n",
       "       [42, 43, 44]])"
      ]
     },
     "execution_count": 56,
     "metadata": {},
     "output_type": "execute_result"
    }
   ],
   "source": [
    "z[1, 1]"
   ]
  },
  {
   "cell_type": "code",
   "execution_count": 57,
   "id": "c05a8145",
   "metadata": {},
   "outputs": [
    {
     "data": {
      "text/plain": [
       "array([39, 40, 41])"
      ]
     },
     "execution_count": 57,
     "metadata": {},
     "output_type": "execute_result"
    }
   ],
   "source": [
    "z[1, 1, 1]"
   ]
  },
  {
   "cell_type": "code",
   "execution_count": 58,
   "id": "a5069e79",
   "metadata": {},
   "outputs": [
    {
     "data": {
      "text/plain": [
       "40"
      ]
     },
     "execution_count": 58,
     "metadata": {},
     "output_type": "execute_result"
    }
   ],
   "source": [
    "z[1, 1, 1, 1]"
   ]
  },
  {
   "cell_type": "code",
   "execution_count": 59,
   "id": "a1d4a907",
   "metadata": {},
   "outputs": [
    {
     "data": {
      "text/plain": [
       "array([39, 40])"
      ]
     },
     "execution_count": 59,
     "metadata": {},
     "output_type": "execute_result"
    }
   ],
   "source": [
    ">>> indices = (1, 1, 1, slice(0, 2))  # same as [1, 1, 1, 0:2]\n",
    ">>> z[indices]"
   ]
  },
  {
   "cell_type": "code",
   "execution_count": 60,
   "id": "26adf4c3",
   "metadata": {},
   "outputs": [
    {
     "data": {
      "text/plain": [
       "array([[28, 31, 34],\n",
       "       [37, 40, 43],\n",
       "       [46, 49, 52]])"
      ]
     },
     "execution_count": 60,
     "metadata": {},
     "output_type": "execute_result"
    }
   ],
   "source": [
    ">>> indices = (1, Ellipsis, 1)  # same as [1, ..., 1]\n",
    ">>> z[indices]"
   ]
  },
  {
   "cell_type": "code",
   "execution_count": 61,
   "id": "a5134c50",
   "metadata": {},
   "outputs": [
    {
     "data": {
      "text/plain": [
       "array([[[[27, 28, 29],\n",
       "         [30, 31, 32],\n",
       "         [33, 34, 35]],\n",
       "\n",
       "        [[36, 37, 38],\n",
       "         [39, 40, 41],\n",
       "         [42, 43, 44]],\n",
       "\n",
       "        [[45, 46, 47],\n",
       "         [48, 49, 50],\n",
       "         [51, 52, 53]]],\n",
       "\n",
       "\n",
       "       [[[27, 28, 29],\n",
       "         [30, 31, 32],\n",
       "         [33, 34, 35]],\n",
       "\n",
       "        [[36, 37, 38],\n",
       "         [39, 40, 41],\n",
       "         [42, 43, 44]],\n",
       "\n",
       "        [[45, 46, 47],\n",
       "         [48, 49, 50],\n",
       "         [51, 52, 53]]],\n",
       "\n",
       "\n",
       "       [[[27, 28, 29],\n",
       "         [30, 31, 32],\n",
       "         [33, 34, 35]],\n",
       "\n",
       "        [[36, 37, 38],\n",
       "         [39, 40, 41],\n",
       "         [42, 43, 44]],\n",
       "\n",
       "        [[45, 46, 47],\n",
       "         [48, 49, 50],\n",
       "         [51, 52, 53]]],\n",
       "\n",
       "\n",
       "       [[[27, 28, 29],\n",
       "         [30, 31, 32],\n",
       "         [33, 34, 35]],\n",
       "\n",
       "        [[36, 37, 38],\n",
       "         [39, 40, 41],\n",
       "         [42, 43, 44]],\n",
       "\n",
       "        [[45, 46, 47],\n",
       "         [48, 49, 50],\n",
       "         [51, 52, 53]]]])"
      ]
     },
     "execution_count": 61,
     "metadata": {},
     "output_type": "execute_result"
    }
   ],
   "source": [
    ">>> z[[1, 1, 1, 1]]  # produces a large array\n",
    "\n"
   ]
  },
  {
   "cell_type": "code",
   "execution_count": 62,
   "id": "b4aca621",
   "metadata": {},
   "outputs": [
    {
     "data": {
      "text/plain": [
       "40"
      ]
     },
     "execution_count": 62,
     "metadata": {},
     "output_type": "execute_result"
    }
   ],
   "source": [
    ">>> z[(1, 1, 1, 1)]  # returns a single value\n"
   ]
  },
  {
   "cell_type": "code",
   "execution_count": 64,
   "id": "6fadb2a0",
   "metadata": {},
   "outputs": [
    {
     "data": {
      "text/plain": [
       "array([2, 0])"
      ]
     },
     "execution_count": 64,
     "metadata": {},
     "output_type": "execute_result"
    }
   ],
   "source": [
    "x = np.array([0, 0])\n",
    "x[[0, 0]] = [1, 2]\n",
    "x"
   ]
  },
  {
   "cell_type": "code",
   "execution_count": 66,
   "id": "a43c04ff",
   "metadata": {},
   "outputs": [
    {
     "data": {
      "text/plain": [
       "array(5)"
      ]
     },
     "execution_count": 66,
     "metadata": {},
     "output_type": "execute_result"
    }
   ],
   "source": [
    "x = np.array(5)        # shape ()\n",
    "x[()]     # returns 5 (scalar)\n",
    "x[...]    # returns array(5)\n"
   ]
  },
  {
   "cell_type": "code",
   "execution_count": 68,
   "id": "77717892",
   "metadata": {},
   "outputs": [
    {
     "name": "stderr",
     "output_type": "stream",
     "text": [
      "C:\\Users\\AKASH\\AppData\\Local\\Temp/ipykernel_12848/3714536480.py:2: DeprecationWarning: Calling nonzero on 0d arrays is deprecated, as it behaves surprisingly. Use `atleast_1d(cond).nonzero()` if the old behavior was intended. If the context of this warning is of the form `arr[nonzero(cond)]`, just use `arr[cond]`.\n",
      "  b.nonzero()          # returns () — not useful for indexing\n"
     ]
    },
    {
     "data": {
      "text/plain": [
       "array(True)"
      ]
     },
     "execution_count": 68,
     "metadata": {},
     "output_type": "execute_result"
    }
   ],
   "source": [
    "b = np.array(True)   # zero-dimensional\n",
    "b.nonzero()          # returns () — not useful for indexing\n",
    "b"
   ]
  },
  {
   "cell_type": "code",
   "execution_count": 69,
   "id": "d9101297",
   "metadata": {},
   "outputs": [
    {
     "ename": "ValueError",
     "evalue": "invalid literal for int() with base 10: 'a'",
     "output_type": "error",
     "traceback": [
      "\u001b[1;31m---------------------------------------------------------------------------\u001b[0m",
      "\u001b[1;31mValueError\u001b[0m                                Traceback (most recent call last)",
      "\u001b[1;32m~\\AppData\\Local\\Temp/ipykernel_12848/1045190996.py\u001b[0m in \u001b[0;36m<module>\u001b[1;34m\u001b[0m\n\u001b[0;32m      1\u001b[0m \u001b[0mx\u001b[0m \u001b[1;33m=\u001b[0m \u001b[0mnp\u001b[0m\u001b[1;33m.\u001b[0m\u001b[0marray\u001b[0m\u001b[1;33m(\u001b[0m\u001b[1;33m[\u001b[0m\u001b[1;36m1\u001b[0m\u001b[1;33m,\u001b[0m \u001b[1;36m2\u001b[0m\u001b[1;33m,\u001b[0m \u001b[1;36m3\u001b[0m\u001b[1;33m]\u001b[0m\u001b[1;33m)\u001b[0m\u001b[1;33m\u001b[0m\u001b[1;33m\u001b[0m\u001b[0m\n\u001b[1;32m----> 2\u001b[1;33m \u001b[0mx\u001b[0m\u001b[1;33m[\u001b[0m\u001b[1;33m[\u001b[0m\u001b[1;36m0\u001b[0m\u001b[1;33m,\u001b[0m \u001b[1;36m1\u001b[0m\u001b[1;33m]\u001b[0m\u001b[1;33m]\u001b[0m \u001b[1;33m=\u001b[0m \u001b[1;33m[\u001b[0m\u001b[1;34m'a'\u001b[0m\u001b[1;33m,\u001b[0m \u001b[1;34m'b'\u001b[0m\u001b[1;33m]\u001b[0m  \u001b[1;31m# Raises an error *after* possibly modifying x[0]\u001b[0m\u001b[1;33m\u001b[0m\u001b[1;33m\u001b[0m\u001b[0m\n\u001b[0m",
      "\u001b[1;31mValueError\u001b[0m: invalid literal for int() with base 10: 'a'"
     ]
    }
   ],
   "source": [
    "x = np.array([1, 2, 3])\n",
    "x[[0, 1]] = ['a', 'b']  # Raises an error *after* possibly modifying x[0]\n"
   ]
  },
  {
   "cell_type": "code",
   "execution_count": 71,
   "id": "c7cef800",
   "metadata": {},
   "outputs": [
    {
     "data": {
      "text/plain": [
       "array([1, 8])"
      ]
     },
     "execution_count": 71,
     "metadata": {},
     "output_type": "execute_result"
    }
   ],
   "source": [
    "x = np.arange(9).reshape(3, 3)\n",
    "y = x[[0, 2], [1, 2]]\n",
    "y"
   ]
  },
  {
   "cell_type": "raw",
   "id": "854c31de",
   "metadata": {},
   "source": [
    "| Feature                         | Behavior / Rule                                          |\n",
    "| ------------------------------- | -------------------------------------------------------- |\n",
    "| `np.intp`                       | Optimal integer type for indexing                        |\n",
    "| Duplicate indices in assignment | Final value is undefined                                 |\n",
    "| `x[()]`                         | Scalar (for 0-D arrays)                                  |\n",
    "| `x[...]`                        | Always returns an array                                  |\n",
    "| 0-D index array                 | Acts like scalar, not advanced indexing                  |\n",
    "| `...` without actual dimensions | Still returns a view                                     |\n",
    "| 0-D boolean                     | `nonzero()` doesn’t behave like array                    |\n",
    "| Empty index with OOB            | May not error (undefined behavior)                       |\n",
    "| Invalid casting assignment      | May leave the array partially changed                    |\n",
    "| Memory order                    | Not guaranteed after advanced indexing                   |\n",
    "| Subclass + advanced indexing    | May skip your custom `__getitem__` / `__setitem__` logic |\n"
   ]
  },
  {
   "cell_type": "code",
   "execution_count": 3,
   "id": "ef464c54",
   "metadata": {},
   "outputs": [],
   "source": [
    ">>> import numpy as np\n",
    ">>> from io import StringIO"
   ]
  },
  {
   "cell_type": "code",
   "execution_count": 4,
   "id": "50687935",
   "metadata": {},
   "outputs": [
    {
     "data": {
      "text/plain": [
       "array([[1., 2., 3.],\n",
       "       [4., 5., 6.]])"
      ]
     },
     "execution_count": 4,
     "metadata": {},
     "output_type": "execute_result"
    }
   ],
   "source": [
    "from io import StringIO\n",
    "import numpy as np\n",
    "\n",
    "data = \"1, 2, 3\\n4, 5, 6\"  # Simulating a small CSV file with two rows\n",
    "np.genfromtxt(StringIO(data), delimiter=\",\")\n"
   ]
  },
  {
   "cell_type": "code",
   "execution_count": 5,
   "id": "ce836486",
   "metadata": {},
   "outputs": [
    {
     "data": {
      "text/plain": [
       "array([[1., 2., 3.],\n",
       "       [4., 5., 6.]])"
      ]
     },
     "execution_count": 5,
     "metadata": {},
     "output_type": "execute_result"
    }
   ],
   "source": [
    "data = \"1 2 3\\n4 5 6\"\n",
    "np.genfromtxt(StringIO(data))  # delimiter=None by default\n"
   ]
  },
  {
   "cell_type": "code",
   "execution_count": 6,
   "id": "eeee515c",
   "metadata": {},
   "outputs": [
    {
     "data": {
      "text/plain": [
       "array([  1.,   2.,   3.,  nan,   4.,  nan,  nan,  90., 123.,   4.])"
      ]
     },
     "execution_count": 6,
     "metadata": {},
     "output_type": "execute_result"
    }
   ],
   "source": [
    ">>> data = \"  1  2  3n  4  5 67n890 123  4\"\n",
    ">>> np.genfromtxt(StringIO(data), delimiter=3)"
   ]
  },
  {
   "cell_type": "code",
   "execution_count": 9,
   "id": "c48858bb",
   "metadata": {},
   "outputs": [
    {
     "data": {
      "text/plain": [
       "array([[1234.,  567.,   89.],\n",
       "       [   4.,    7.,    9.],\n",
       "       [   4.,  567.,    9.]])"
      ]
     },
     "execution_count": 9,
     "metadata": {},
     "output_type": "execute_result"
    }
   ],
   "source": [
    ">>> data = \"123456789\\n   4  7 9\\n   4567 9\"\n",
    ">>> np.genfromtxt(StringIO(data), delimiter=(4, 3, 2))"
   ]
  },
  {
   "cell_type": "code",
   "execution_count": 7,
   "id": "f21655f3",
   "metadata": {},
   "outputs": [
    {
     "data": {
      "text/plain": [
       "array([[1., 3.],\n",
       "       [4., 6.]])"
      ]
     },
     "execution_count": 7,
     "metadata": {},
     "output_type": "execute_result"
    }
   ],
   "source": [
    ">>> data = \"1 2 3\\n4 5 6\"\n",
    ">>> np.genfromtxt(StringIO(data), usecols=(0, -1))"
   ]
  },
  {
   "cell_type": "code",
   "execution_count": 17,
   "id": "5df0bc41",
   "metadata": {},
   "outputs": [
    {
     "data": {
      "text/plain": [
       "array([(1., 3.), (4., 6.)], dtype=[('a', '<f8'), ('c', '<f8')])"
      ]
     },
     "execution_count": 17,
     "metadata": {},
     "output_type": "execute_result"
    }
   ],
   "source": [
    ">>> data = \"1 2 3\\n4 5 6\"\n",
    ">>> np.genfromtxt(StringIO(data),\n",
    "...               names=\"a, b, c\", usecols=(\"a\", \"c\"))"
   ]
  },
  {
   "cell_type": "code",
   "execution_count": 19,
   "id": "0311913a",
   "metadata": {},
   "outputs": [
    {
     "data": {
      "text/plain": [
       "array([(1, 2, 3), (4, 5, 6)],\n",
       "      dtype=[('a', '<i4'), ('b', '<i4'), ('c', '<i4')])"
      ]
     },
     "execution_count": 19,
     "metadata": {},
     "output_type": "execute_result"
    }
   ],
   "source": [
    ">>> data = StringIO(\"1 2 3\\n 4 5 6\")\n",
    ">>> np.genfromtxt(data, dtype=[(_, int) for _ in \"abc\"])"
   ]
  },
  {
   "cell_type": "code",
   "execution_count": 21,
   "id": "8efc2d4d",
   "metadata": {},
   "outputs": [
    {
     "data": {
      "text/plain": [
       "array([(1, 2., 3), (4, 5., 6)],\n",
       "      dtype=[('A', '<i4'), ('B', '<f8'), ('C', '<i4')])"
      ]
     },
     "execution_count": 21,
     "metadata": {},
     "output_type": "execute_result"
    }
   ],
   "source": [
    ">>> data = StringIO(\"1 2 3\\n 4 5 6\")\n",
    ">>> ndtype=[('a',int), ('b', float), ('c', int)]\n",
    ">>> names = [\"A\", \"B\", \"C\"]\n",
    ">>> np.genfromtxt(data, names=names, dtype=ndtype)"
   ]
  },
  {
   "cell_type": "code",
   "execution_count": 24,
   "id": "ec314e47",
   "metadata": {},
   "outputs": [
    {
     "data": {
      "text/plain": [
       "array([(1., nan, 45.), (6., nan,  0.)],\n",
       "      dtype=[('i', '<f8'), ('p', '<f8'), ('n', '<f8')])"
      ]
     },
     "execution_count": 24,
     "metadata": {},
     "output_type": "execute_result"
    }
   ],
   "source": [
    ">>> convertfunc = lambda x: float(x.strip(\"%\"))/100.\n",
    ">>> data = \"1, 2.3%, 45.\\n6, 78.9%, 0\"\n",
    ">>> names = (\"i\", \"p\", \"n\")\n",
    ">>> # General case .....\n",
    ">>> np.genfromtxt(StringIO(data), delimiter=\",\", names=names)\n"
   ]
  },
  {
   "cell_type": "code",
   "execution_count": 8,
   "id": "9e004d92",
   "metadata": {},
   "outputs": [
    {
     "data": {
      "text/plain": [
       "array([(0, 2,    3), (4, 0, -999)],\n",
       "      dtype=[('a', '<i4'), ('b', '<i4'), ('c', '<i4')])"
      ]
     },
     "execution_count": 8,
     "metadata": {},
     "output_type": "execute_result"
    }
   ],
   "source": [
    ">>> data = \"N/A, 2, 3\\n4, ,???\"\n",
    ">>> kwargs = dict(delimiter=\",\",\n",
    "...               dtype=int,\n",
    "...               names=\"a,b,c\",\n",
    "...               missing_values={0:\"N/A\", 'b':\" \", 2:\"???\"},\n",
    "...               filling_values={0:0, 'b':0, 2:-999})\n",
    ">>> np.genfromtxt(StringIO(data), **kwargs)"
   ]
  },
  {
   "cell_type": "code",
   "execution_count": 9,
   "id": "335fd8ea",
   "metadata": {},
   "outputs": [
    {
     "data": {
      "text/plain": [
       "array([(0, 2,    3), (4, 0, -999)],\n",
       "      dtype=[('a', '<i4'), ('b', '<i4'), ('c', '<i4')])"
      ]
     },
     "execution_count": 9,
     "metadata": {},
     "output_type": "execute_result"
    }
   ],
   "source": [
    "np.genfromtxt(\n",
    "    StringIO(data),\n",
    "    delimiter=\",\",\n",
    "    dtype=int,\n",
    "    names=\"a,b,c\",\n",
    "    missing_values={0:\"N/A\", 'b':\" \", 2:\"???\"},\n",
    "    filling_values={0:0, 'b':0, 2:-999}\n",
    ")\n"
   ]
  },
  {
   "cell_type": "code",
   "execution_count": 10,
   "id": "6c8780c4",
   "metadata": {},
   "outputs": [
    {
     "data": {
      "text/plain": [
       "dtype('int64')"
      ]
     },
     "execution_count": 10,
     "metadata": {},
     "output_type": "execute_result"
    }
   ],
   "source": [
    ">>> d = np.dtype(np.int64)\n",
    ">>> d"
   ]
  },
  {
   "cell_type": "code",
   "execution_count": 11,
   "id": "4138718e",
   "metadata": {},
   "outputs": [
    {
     "data": {
      "text/plain": [
       "True"
      ]
     },
     "execution_count": 11,
     "metadata": {},
     "output_type": "execute_result"
    }
   ],
   "source": [
    ">>> np.issubdtype(d, np.integer)\n"
   ]
  },
  {
   "cell_type": "code",
   "execution_count": 12,
   "id": "53a5106a",
   "metadata": {},
   "outputs": [
    {
     "data": {
      "text/plain": [
       "False"
      ]
     },
     "execution_count": 12,
     "metadata": {},
     "output_type": "execute_result"
    }
   ],
   "source": [
    ">>> np.issubdtype(d, np.floating)\n"
   ]
  },
  {
   "cell_type": "code",
   "execution_count": 15,
   "id": "197f8beb",
   "metadata": {},
   "outputs": [
    {
     "data": {
      "text/plain": [
       "array(['hello', 'world!'], dtype='<U6')"
      ]
     },
     "execution_count": 15,
     "metadata": {},
     "output_type": "execute_result"
    }
   ],
   "source": [
    ">>> np.array([\"hello\", \"world!\"])"
   ]
  },
  {
   "cell_type": "code",
   "execution_count": 16,
   "id": "b5d248c7",
   "metadata": {},
   "outputs": [
    {
     "data": {
      "text/plain": [
       "array(['hello', 'world!'], dtype='<U7')"
      ]
     },
     "execution_count": 16,
     "metadata": {},
     "output_type": "execute_result"
    }
   ],
   "source": [
    ">>> np.array([\"hello\", \"world!\"], dtype=\"U5\")\n",
    ">>> np.array([\"hello\", \"world!\"], dtype=\"U7\")\n"
   ]
  },
  {
   "cell_type": "code",
   "execution_count": 17,
   "id": "e432153a",
   "metadata": {},
   "outputs": [
    {
     "data": {
      "text/plain": [
       "b'hello\\x00\\x00world\\x00\\x00'"
      ]
     },
     "execution_count": 17,
     "metadata": {},
     "output_type": "execute_result"
    }
   ],
   "source": [
    ">>> np.array([\"hello\", \"world\"], dtype=\"S7\").tobytes()\n"
   ]
  },
  {
   "cell_type": "code",
   "execution_count": 18,
   "id": "961783d2",
   "metadata": {},
   "outputs": [
    {
     "data": {
      "text/plain": [
       "1000000000000000000"
      ]
     },
     "execution_count": 18,
     "metadata": {},
     "output_type": "execute_result"
    }
   ],
   "source": [
    ">>> np.power(100, 9, dtype=np.int64)\n"
   ]
  },
  {
   "cell_type": "code",
   "execution_count": 19,
   "id": "de37aa01",
   "metadata": {},
   "outputs": [
    {
     "data": {
      "text/plain": [
       "-1486618624"
      ]
     },
     "execution_count": 19,
     "metadata": {},
     "output_type": "execute_result"
    }
   ],
   "source": [
    ">>> np.power(100, 9, dtype=np.int32)\n"
   ]
  },
  {
   "cell_type": "markdown",
   "id": "3bb5a327",
   "metadata": {},
   "source": [
    "Overflow errors"
   ]
  },
  {
   "cell_type": "code",
   "execution_count": 20,
   "id": "f7ac6ef6",
   "metadata": {},
   "outputs": [
    {
     "name": "stdout",
     "output_type": "stream",
     "text": [
      "Machine parameters for float64\n",
      "---------------------------------------------------------------\n",
      "precision =  15   resolution = 1.0000000000000001e-15\n",
      "machep =    -52   eps =        2.2204460492503131e-16\n",
      "negep =     -53   epsneg =     1.1102230246251565e-16\n",
      "minexp =  -1022   tiny =       2.2250738585072014e-308\n",
      "maxexp =   1024   max =        1.7976931348623157e+308\n",
      "nexp =       11   min =        -max\n",
      "smallest_normal = 2.2250738585072014e-308   smallest_subnormal = 4.9406564584124654e-324\n",
      "---------------------------------------------------------------\n",
      "\n"
     ]
    }
   ],
   "source": [
    "import numpy as np\n",
    "\n",
    "print(np.finfo(np.longdouble))"
   ]
  },
  {
   "cell_type": "code",
   "execution_count": 21,
   "id": "43ed0a9a",
   "metadata": {},
   "outputs": [
    {
     "data": {
      "text/plain": [
       "array([2., 4., 6.])"
      ]
     },
     "execution_count": 21,
     "metadata": {},
     "output_type": "execute_result"
    }
   ],
   "source": [
    ">>> a = np.array([1.0, 2.0, 3.0])\n",
    ">>> b = np.array([2.0, 2.0, 2.0])\n",
    ">>> a * b"
   ]
  },
  {
   "cell_type": "code",
   "execution_count": 27,
   "id": "84dd0532",
   "metadata": {},
   "outputs": [
    {
     "data": {
      "text/plain": [
       "array([ 0., 10., 20., 30.])"
      ]
     },
     "execution_count": 27,
     "metadata": {},
     "output_type": "execute_result"
    }
   ],
   "source": [
    ">>> import numpy as np\n",
    ">>> a = np.array([0.0, 10.0, 20.0, 30.0])\n",
    ">>> b = np.array([1.0, 2.0, 3.0])\n",
    "a\n"
   ]
  },
  {
   "cell_type": "code",
   "execution_count": 28,
   "id": "ef40730b",
   "metadata": {},
   "outputs": [
    {
     "data": {
      "text/plain": [
       "array([1., 2., 3.])"
      ]
     },
     "execution_count": 28,
     "metadata": {},
     "output_type": "execute_result"
    }
   ],
   "source": [
    "b"
   ]
  },
  {
   "cell_type": "code",
   "execution_count": 24,
   "id": "412ea884",
   "metadata": {},
   "outputs": [
    {
     "data": {
      "text/plain": [
       "array([[ 1.,  2.,  3.],\n",
       "       [11., 12., 13.],\n",
       "       [21., 22., 23.],\n",
       "       [31., 32., 33.]])"
      ]
     },
     "execution_count": 24,
     "metadata": {},
     "output_type": "execute_result"
    }
   ],
   "source": [
    ">>> a[:, np.newaxis] + b"
   ]
  },
  {
   "cell_type": "code",
   "execution_count": 5,
   "id": "74d796d9",
   "metadata": {},
   "outputs": [
    {
     "name": "stdout",
     "output_type": "stream",
     "text": [
      "[ 1 99  3  4]\n"
     ]
    }
   ],
   "source": [
    "import numpy as np\n",
    "\n",
    "a = np.array([1, 2, 3, 4])\n",
    "b = a[1:3]       # This is a view of a\n",
    "b[0] = 99\n",
    "print(a)       "
   ]
  },
  {
   "cell_type": "code",
   "execution_count": 6,
   "id": "a69f9ede",
   "metadata": {},
   "outputs": [
    {
     "data": {
      "text/plain": [
       "array([ 1, 99,  3,  4])"
      ]
     },
     "execution_count": 6,
     "metadata": {},
     "output_type": "execute_result"
    }
   ],
   "source": [
    "b = a.view()\n",
    "b"
   ]
  },
  {
   "cell_type": "code",
   "execution_count": 7,
   "id": "f2ce8ae9",
   "metadata": {},
   "outputs": [
    {
     "name": "stdout",
     "output_type": "stream",
     "text": [
      "[ 1 99  3  4]\n",
      "[100  99   3   4]\n"
     ]
    }
   ],
   "source": [
    "c = a.copy()     # This is a full copy\n",
    "c[0] = 100\n",
    "print(a)         # Output: [ 1 99  3  4]\n",
    "print(c)         # Output: [100 99  3  4]\n"
   ]
  },
  {
   "cell_type": "code",
   "execution_count": 37,
   "id": "dc15d524",
   "metadata": {},
   "outputs": [
    {
     "name": "stdout",
     "output_type": "stream",
     "text": [
      "[[0 1 2]\n",
      " [3 4 5]\n",
      " [6 7 8]]\n"
     ]
    }
   ],
   "source": [
    "x = np.arange(9).reshape(3, 3)\n",
    "y = x[[1, 2]]\n",
    "y[0, 0] = 999\n",
    "print(x)"
   ]
  },
  {
   "cell_type": "code",
   "execution_count": 38,
   "id": "935aefa2",
   "metadata": {},
   "outputs": [
    {
     "data": {
      "text/plain": [
       "True"
      ]
     },
     "execution_count": 38,
     "metadata": {},
     "output_type": "execute_result"
    }
   ],
   "source": [
    ">>> y.base is None\n"
   ]
  },
  {
   "cell_type": "markdown",
   "id": "4bc89dac",
   "metadata": {},
   "source": [
    "If arr.base is None, it's owning its data.\n",
    "\n",
    "If arr.base is not None, it's a view into another array."
   ]
  },
  {
   "cell_type": "code",
   "execution_count": 41,
   "id": "62fdcba7",
   "metadata": {},
   "outputs": [
    {
     "data": {
      "text/plain": [
       "array([('Rex', 9, 81.), ('Fido', 3, 27.)],\n",
       "      dtype=[('name', '<U10'), ('age', '<i4'), ('weight', '<f4')])"
      ]
     },
     "execution_count": 41,
     "metadata": {},
     "output_type": "execute_result"
    }
   ],
   "source": [
    ">>> x = np.array([('Rex', 9, 81.0), ('Fido', 3, 27.0)],\n",
    "...              dtype=[('name', 'U10'), ('age', 'i4'), ('weight', 'f4')])\n",
    ">>> x\n"
   ]
  },
  {
   "cell_type": "code",
   "execution_count": 42,
   "id": "220fe177",
   "metadata": {},
   "outputs": [
    {
     "data": {
      "text/plain": [
       "array([81., 27.], dtype=float32)"
      ]
     },
     "execution_count": 42,
     "metadata": {},
     "output_type": "execute_result"
    }
   ],
   "source": [
    "x['name']    # → array(['Rex', 'Fido'], dtype='<U10')\n"
   ]
  },
  {
   "cell_type": "code",
   "execution_count": 44,
   "id": "ba23e932",
   "metadata": {},
   "outputs": [
    {
     "data": {
      "text/plain": [
       "array([9, 3])"
      ]
     },
     "execution_count": 44,
     "metadata": {},
     "output_type": "execute_result"
    }
   ],
   "source": [
    "x['age']     # → array([9, 3], dtype=int32)\n"
   ]
  },
  {
   "cell_type": "code",
   "execution_count": 43,
   "id": "68173940",
   "metadata": {},
   "outputs": [
    {
     "data": {
      "text/plain": [
       "array([81., 27.], dtype=float32)"
      ]
     },
     "execution_count": 43,
     "metadata": {},
     "output_type": "execute_result"
    }
   ],
   "source": [
    "x['weight']  # → array([81., 27.], dtype=float32)\n"
   ]
  },
  {
   "cell_type": "code",
   "execution_count": 45,
   "id": "cf319f59",
   "metadata": {},
   "outputs": [
    {
     "data": {
      "text/plain": [
       "('Fido', 3, 27.)"
      ]
     },
     "execution_count": 45,
     "metadata": {},
     "output_type": "execute_result"
    }
   ],
   "source": [
    ">>> x[1]\n"
   ]
  },
  {
   "cell_type": "code",
   "execution_count": 9,
   "id": "ea4fcc81",
   "metadata": {},
   "outputs": [
    {
     "data": {
      "text/plain": [
       "array([(3, 3.,  True, b'3'), (3, 3.,  True, b'3')],\n",
       "      dtype=[('f0', '<i8'), ('f1', '<f4'), ('f2', '?'), ('f3', 'S1')])"
      ]
     },
     "execution_count": 9,
     "metadata": {},
     "output_type": "execute_result"
    }
   ],
   "source": [
    ">>> x = np.zeros(2, dtype='i8, f4, ?, S1')\n",
    ">>> x[:] = 3\n",
    ">>> x"
   ]
  },
  {
   "cell_type": "code",
   "execution_count": 8,
   "id": "e48144de",
   "metadata": {},
   "outputs": [
    {
     "data": {
      "text/plain": [
       "('x', 'y')"
      ]
     },
     "execution_count": 8,
     "metadata": {},
     "output_type": "execute_result"
    }
   ],
   "source": [
    ">>> d = np.dtype([('x', 'i8'), ('y', 'f4')])\n",
    ">>> d.names"
   ]
  },
  {
   "cell_type": "code",
   "execution_count": 10,
   "id": "05891c27",
   "metadata": {},
   "outputs": [
    {
     "data": {
      "text/plain": [
       "dtype('int64')"
      ]
     },
     "execution_count": 10,
     "metadata": {},
     "output_type": "execute_result"
    }
   ],
   "source": [
    ">>> d['x']\n"
   ]
  },
  {
   "cell_type": "code",
   "execution_count": 11,
   "id": "08d735de",
   "metadata": {},
   "outputs": [
    {
     "data": {
      "text/plain": [
       "mappingproxy({'x': (dtype('int64'), 0), 'y': (dtype('float32'), 8)})"
      ]
     },
     "execution_count": 11,
     "metadata": {},
     "output_type": "execute_result"
    }
   ],
   "source": [
    ">>> d.fields\n"
   ]
  },
  {
   "cell_type": "markdown",
   "id": "e668713f",
   "metadata": {},
   "source": [
    "# Ufunc methods\n"
   ]
  },
  {
   "cell_type": "code",
   "execution_count": 12,
   "id": "b3e2ba72",
   "metadata": {},
   "outputs": [
    {
     "data": {
      "text/plain": [
       "array([[0, 1, 2],\n",
       "       [3, 4, 5],\n",
       "       [6, 7, 8]])"
      ]
     },
     "execution_count": 12,
     "metadata": {},
     "output_type": "execute_result"
    }
   ],
   "source": [
    ">>> x = np.arange(9).reshape(3,3)\n",
    ">>> x\n",
    "\n",
    "\n",
    "\n"
   ]
  },
  {
   "cell_type": "code",
   "execution_count": 13,
   "id": "9c79230c",
   "metadata": {},
   "outputs": [
    {
     "data": {
      "text/plain": [
       "array([ 3, 12, 21])"
      ]
     },
     "execution_count": 13,
     "metadata": {},
     "output_type": "execute_result"
    }
   ],
   "source": [
    ">>> np.add.reduce(x, 1)"
   ]
  },
  {
   "cell_type": "code",
   "execution_count": 14,
   "id": "f9d517f4",
   "metadata": {},
   "outputs": [
    {
     "data": {
      "text/plain": [
       "36"
      ]
     },
     "execution_count": 14,
     "metadata": {},
     "output_type": "execute_result"
    }
   ],
   "source": [
    ">>> np.add.reduce(x, (0, 1))\n"
   ]
  },
  {
   "cell_type": "markdown",
   "id": "d5f4fbaf",
   "metadata": {},
   "source": [
    "Expression\tMeaning\tResult\n",
    "np.add.reduce(x, 1)\tSum across rows\t[3, 12, 21]\n",
    "np.add.reduce(x, (0, 1))\tSum entire array\t36"
   ]
  },
  {
   "cell_type": "code",
   "execution_count": 15,
   "id": "473f2374",
   "metadata": {},
   "outputs": [
    {
     "data": {
      "text/plain": [
       "array([ 0., 28., 80.])"
      ]
     },
     "execution_count": 15,
     "metadata": {},
     "output_type": "execute_result"
    }
   ],
   "source": [
    ">>> np.multiply.reduce(x, dtype=float)\n"
   ]
  },
  {
   "cell_type": "raw",
   "id": "d7e77533",
   "metadata": {},
   "source": [
    "| Operation     | MATLAB                      | NumPy                                    |\n",
    "| ------------- | --------------------------- | ---------------------------------------- |\n",
    "| `*` operator  | Matrix multiplication       | Element-wise multiplication              |\n",
    "| `.*` operator | Element-wise multiplication | Same as `*`                              |\n",
    "| `@` operator  | N/A                         | Matrix multiplication (since Python 3.5) |\n",
    "| Broadcasting  | Limited                     | Extensive and automatic                  |\n"
   ]
  },
  {
   "cell_type": "code",
   "execution_count": null,
   "id": "8d73e68f",
   "metadata": {},
   "outputs": [],
   "source": []
  }
 ],
 "metadata": {
  "kernelspec": {
   "display_name": "Python 3 (ipykernel)",
   "language": "python",
   "name": "python3"
  },
  "language_info": {
   "codemirror_mode": {
    "name": "ipython",
    "version": 3
   },
   "file_extension": ".py",
   "mimetype": "text/x-python",
   "name": "python",
   "nbconvert_exporter": "python",
   "pygments_lexer": "ipython3",
   "version": "3.9.7"
  }
 },
 "nbformat": 4,
 "nbformat_minor": 5
}
